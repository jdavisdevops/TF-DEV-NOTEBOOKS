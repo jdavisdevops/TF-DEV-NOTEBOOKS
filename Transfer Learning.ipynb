{
 "cells": [
  {
   "cell_type": "code",
   "execution_count": 1,
   "id": "worth-escape",
   "metadata": {},
   "outputs": [],
   "source": [
    "import tensorflow as tf\n",
    "import os\n",
    "from tensorflow.keras import layers\n",
    "from tensorflow.keras import Model\n",
    "from tensorflow.keras.applications.inception_v3 import InceptionV3\n",
    "import numpy as np"
   ]
  },
  {
   "cell_type": "code",
   "execution_count": 2,
   "id": "social-strap",
   "metadata": {},
   "outputs": [],
   "source": [
    "pre_trained_model = InceptionV3(\n",
    "    input_shape=(300, 300, 3), include_top=False, weights='imagenet'\n",
    ")\n",
    "# local_weights_file = 'inception_v3_weights_tf_dim_ordering_tf_kernels_notop.h5'\n",
    "# pre_trained_model.load_weights(local_weights_file)\n",
    "\n",
    "for layer in pre_trained_model.layers:\n",
    "    layer.trainable = False\n",
    "    \n",
    "# pre_trained_model.summary()"
   ]
  },
  {
   "cell_type": "code",
   "execution_count": 3,
   "id": "russian-occasion",
   "metadata": {},
   "outputs": [
    {
     "name": "stdout",
     "output_type": "stream",
     "text": [
      "last layer output shape:  (None, 17, 17, 768)\n"
     ]
    }
   ],
   "source": [
    "last_layer = pre_trained_model.get_layer('mixed7')\n",
    "print('last layer output shape: ', last_layer.output_shape)\n",
    "last_output = last_layer.output"
   ]
  },
  {
   "cell_type": "code",
   "execution_count": 4,
   "id": "rocky-anthropology",
   "metadata": {},
   "outputs": [],
   "source": [
    "from tensorflow.keras.optimizers import RMSprop\n",
    "\n",
    "x = layers.Flatten()(last_output)\n",
    "x = layers.Dense(1024, activation=\"relu\")(x)\n",
    "x = layers.Dropout(0.2)(x)\n",
    "x = layers.Dense(1, activation=\"sigmoid\")(x)\n",
    "\n",
    "model = Model(pre_trained_model.input, x)\n",
    "\n",
    "model.compile(\n",
    "    optimizer=RMSprop(lr=0.0001), loss=\"binary_crossentropy\", metrics=[\"accuracy\"]\n",
    ")"
   ]
  },
  {
   "cell_type": "code",
   "execution_count": 5,
   "id": "behavioral-presentation",
   "metadata": {},
   "outputs": [
    {
     "name": "stdout",
     "output_type": "stream",
     "text": [
      "There is 2 classes: cats and dogs\n"
     ]
    }
   ],
   "source": [
    "from pathlib import Path\n",
    "\n",
    "train_dir = Path.cwd() / 'cats-v-dogs' / 'training'\n",
    "val_dir = Path. cwd() / 'cats-v-dogs' / 'testing'\n",
    "\n",
    "cat_train = train_dir / 'cats'\n",
    "dog_train = train_dir / 'dogs'\n",
    "\n",
    "cat_val = val_dir / 'cats'\n",
    "dog_val = val_dir / 'dogs'\n",
    "\n",
    "class_names = np.array([item.name for item in train_dir.glob('*')])\n",
    "print(f\"There is 2 classes: {class_names[0]} and {class_names[1]}\")"
   ]
  },
  {
   "cell_type": "code",
   "execution_count": 6,
   "id": "dimensional-cradle",
   "metadata": {},
   "outputs": [
    {
     "name": "stdout",
     "output_type": "stream",
     "text": [
      "Found 22283 images belonging to 2 classes.\n",
      "Found 2473 images belonging to 2 classes.\n"
     ]
    }
   ],
   "source": [
    "SEED = 42\n",
    "BATCH_SIZE = 150\n",
    "IMG_HEIGHT = 300\n",
    "IMG_WIDTH = 300\n",
    "\n",
    "train_datagen = tf.keras.preprocessing.image.ImageDataGenerator(\n",
    "    rescale=1.0 / 255.0,\n",
    "    horizontal_flip=True,\n",
    "    rotation_range=40,\n",
    "    width_shift_range=0.2,\n",
    "    height_shift_range=0.2,\n",
    "    zoom_range=0.2,\n",
    ")\n",
    "\n",
    "val_datagen = tf.keras.preprocessing.image.ImageDataGenerator(rescale=1.0 / 255.0)\n",
    "\n",
    "train_generator = train_datagen.flow_from_directory(\n",
    "    batch_size=BATCH_SIZE,\n",
    "    directory=train_dir,\n",
    "#     shuffle=True,\n",
    "    target_size=(IMG_HEIGHT, IMG_WIDTH),\n",
    "    class_mode=\"binary\",\n",
    ")\n",
    "\n",
    "val_generator = val_datagen.flow_from_directory(\n",
    "    batch_size=BATCH_SIZE,\n",
    "    directory=val_dir,\n",
    "    shuffle=False,\n",
    "    target_size=(IMG_HEIGHT, IMG_WIDTH),\n",
    "    class_mode=\"binary\",\n",
    ")\n",
    "\n",
    "train_ds = tf.data.Dataset.from_generator(\n",
    "    lambda: train_generator,\n",
    "    output_signature=tf.TensorSpec(shape=(None, 300, 300, 3), dtype=tf.int32),\n",
    ")\n",
    "\n",
    "val_ds = tf.data.Dataset.from_generator(\n",
    "    lambda: val_generator,\n",
    "    output_signature=tf.TensorSpec(shape=(None, 300, 300, 3), dtype=tf.int32),\n",
    ")"
   ]
  },
  {
   "cell_type": "code",
   "execution_count": 7,
   "id": "fiscal-photography",
   "metadata": {},
   "outputs": [
    {
     "name": "stdout",
     "output_type": "stream",
     "text": [
      "Epoch 1/20\n"
     ]
    },
    {
     "ename": "ValueError",
     "evalue": "in user code:\n\n    c:\\users\\josephdavis\\desktop\\tensorflow notebooks\\env\\lib\\site-packages\\tensorflow\\python\\keras\\engine\\training.py:805 train_function  *\n        return step_function(self, iterator)\n    c:\\users\\josephdavis\\desktop\\tensorflow notebooks\\env\\lib\\site-packages\\tensorflow\\python\\keras\\engine\\training.py:795 step_function  **\n        outputs = model.distribute_strategy.run(run_step, args=(data,))\n    c:\\users\\josephdavis\\desktop\\tensorflow notebooks\\env\\lib\\site-packages\\tensorflow\\python\\distribute\\distribute_lib.py:1259 run\n        return self._extended.call_for_each_replica(fn, args=args, kwargs=kwargs)\n    c:\\users\\josephdavis\\desktop\\tensorflow notebooks\\env\\lib\\site-packages\\tensorflow\\python\\distribute\\distribute_lib.py:2730 call_for_each_replica\n        return self._call_for_each_replica(fn, args, kwargs)\n    c:\\users\\josephdavis\\desktop\\tensorflow notebooks\\env\\lib\\site-packages\\tensorflow\\python\\distribute\\distribute_lib.py:3417 _call_for_each_replica\n        return fn(*args, **kwargs)\n    c:\\users\\josephdavis\\desktop\\tensorflow notebooks\\env\\lib\\site-packages\\tensorflow\\python\\keras\\engine\\training.py:788 run_step  **\n        outputs = model.train_step(data)\n    c:\\users\\josephdavis\\desktop\\tensorflow notebooks\\env\\lib\\site-packages\\tensorflow\\python\\keras\\engine\\training.py:757 train_step\n        self.optimizer.minimize(loss, self.trainable_variables, tape=tape)\n    c:\\users\\josephdavis\\desktop\\tensorflow notebooks\\env\\lib\\site-packages\\tensorflow\\python\\keras\\optimizer_v2\\optimizer_v2.py:498 minimize\n        return self.apply_gradients(grads_and_vars, name=name)\n    c:\\users\\josephdavis\\desktop\\tensorflow notebooks\\env\\lib\\site-packages\\tensorflow\\python\\keras\\optimizer_v2\\optimizer_v2.py:598 apply_gradients\n        grads_and_vars = optimizer_utils.filter_empty_gradients(grads_and_vars)\n    c:\\users\\josephdavis\\desktop\\tensorflow notebooks\\env\\lib\\site-packages\\tensorflow\\python\\keras\\optimizer_v2\\utils.py:78 filter_empty_gradients\n        raise ValueError(\"No gradients provided for any variable: %s.\" %\n\n    ValueError: No gradients provided for any variable: ['conv2d/kernel:0', 'batch_normalization/beta:0', 'conv2d_1/kernel:0', 'batch_normalization_1/beta:0', 'conv2d_2/kernel:0', 'batch_normalization_2/beta:0', 'conv2d_3/kernel:0', 'batch_normalization_3/beta:0', 'conv2d_4/kernel:0', 'batch_normalization_4/beta:0', 'conv2d_8/kernel:0', 'batch_normalization_8/beta:0', 'conv2d_6/kernel:0', 'conv2d_9/kernel:0', 'batch_normalization_6/beta:0', 'batch_normalization_9/beta:0', 'conv2d_5/kernel:0', 'conv2d_7/kernel:0', 'conv2d_10/kernel:0', 'conv2d_11/kernel:0', 'batch_normalization_5/beta:0', 'batch_normalization_7/beta:0', 'batch_normalization_10/beta:0', 'batch_normalization_11/beta:0', 'conv2d_15/kernel:0', 'batch_normalization_15/beta:0', 'conv2d_13/kernel:0', 'conv2d_16/kernel:0', 'batch_normalization_13/beta:0', 'batch_normalization_16/beta:0', 'conv2d_12/kernel:0', 'conv2d_14/kernel:0', 'conv2d_17/kernel:0', 'conv2d_18/kernel:0', 'batch_normalization_12/beta:0', 'batch_normalization_14/beta:0', 'batch_normalization_17/beta:0', 'batch_normalization_18/beta:0', 'conv2d_22/kernel:0', 'batch_normalization_22/beta:0', 'conv2d_20/kernel:0', 'conv2d_23/kernel:0', 'batch_normalization_20/beta:0', 'batch_normalization_23/beta:0', 'conv2d_19/kernel:0', 'conv2d_21/kernel:0', 'conv2d_24/kernel:0', 'conv2d_25/kernel:0', 'batch_normalization_19/beta:0', 'batch_normalization_21/beta:0', 'batch_normalization_24/beta:0', 'batch_normalization_25/beta:0', 'conv2d_27/kernel:0', 'batch_normalization_27/beta:0', 'conv2d_28/kernel:0', 'batch_normalization_28/beta:0', 'conv2d_26/kernel:0', 'conv2d_29/kernel:0', 'batch_normalization_26/beta:0', 'batch_normalization_29/beta:0', 'conv2d_34/kernel:0', 'batch_normalization_34/beta:0', 'conv2d_35/kernel:0', 'batch_normalization_35/beta:0', 'conv2d_31/kernel:0', 'conv2d_36/kernel:0', 'batch_normalization_31/beta:0', 'batch_normalization_36/beta:0', 'conv2d_32/kernel:0', 'conv2d_37/kernel:0', 'batch_normalization_32/beta:0', 'batch_normalization_37/beta:0', 'conv2d_30/kernel:0', 'conv2d_33/kernel:0', 'conv2d_38/kernel:0', 'conv2d_39/kernel:0', 'batch_normalization_30/beta:0', 'batch_normalization_33/beta:0', 'batch_normalization_38/beta:0', 'batch_normalization_39/beta:0', 'conv2d_44/kernel:0', 'batch_normalization_44/beta:0', 'conv2d_45/kernel:0', 'batch_normalization_45/beta:0', 'conv2d_41/kernel:0', 'conv2d_46/kernel:0', 'batch_normalization_41/beta:0', 'batch_normalization_46/beta:0', 'conv2d_42/kernel:0', 'conv2d_47/kernel:0', 'batch_normalization_42/beta:0', 'batch_normalization_47/beta:0', 'conv2d_40/kernel:0', 'conv2d_43/kernel:0', 'conv2d_48/kernel:0', 'conv2d_49/kernel:0', 'batch_normalization_40/beta:0', 'batch_normalization_43/beta:0', 'batch_normalization_48/beta:0', 'batch_normalization_49/beta:0', 'conv2d_54/kernel:0', 'batch_normalization_54/beta:0', 'conv2d_55/kernel:0', 'batch_normalization_55/beta:0', 'conv2d_51/kernel:0', 'conv2d_56/kernel:0', 'batch_normalization_51/beta:0', 'batch_normalization_56/beta:0', 'conv2d_52/kernel:0', 'conv2d_57/kernel:0', 'batch_normalization_52/beta:0', 'batch_normalization_57/beta:0', 'conv2d_50/kernel:0', 'conv2d_53/kernel:0', 'conv2d_58/kernel:0', 'conv2d_59/kernel:0', 'batch_normalization_50/beta:0', 'batch_normalization_53/beta:0', 'batch_normalization_58/beta:0', 'batch_normalization_59/beta:0', 'conv2d_64/kernel:0', 'batch_normalization_64/beta:0', 'conv2d_65/kernel:0', 'batch_normalization_65/beta:0', 'conv2d_61/kernel:0', 'conv2d_66/kernel:0', 'batch_normalization_61/beta:0', 'batch_normalization_66/beta:0', 'conv2d_62/kernel:0', 'conv2d_67/kernel:0', 'batch_normalization_62/beta:0', 'batch_normalization_67/beta:0', 'conv2d_60/kernel:0', 'conv2d_63/kernel:0', 'conv2d_68/kernel:0', 'conv2d_69/kernel:0', 'batch_normalization_60/beta:0', 'batch_normalization_63/beta:0', 'batch_normalization_68/beta:0', 'batch_normalization_69/beta:0', 'dense/kernel:0', 'dense/bias:0', 'dense_1/kernel:0', 'dense_1/bias:0'].\n",
     "output_type": "error",
     "traceback": [
      "\u001b[1;31m---------------------------------------------------------------------------\u001b[0m",
      "\u001b[1;31mValueError\u001b[0m                                Traceback (most recent call last)",
      "\u001b[1;32m<ipython-input-7-f9b577108b3a>\u001b[0m in \u001b[0;36m<module>\u001b[1;34m\u001b[0m\n\u001b[1;32m----> 1\u001b[1;33m history = model.fit(\n\u001b[0m\u001b[0;32m      2\u001b[0m     \u001b[0mtrain_ds\u001b[0m\u001b[1;33m,\u001b[0m\u001b[1;33m\u001b[0m\u001b[1;33m\u001b[0m\u001b[0m\n\u001b[0;32m      3\u001b[0m     \u001b[0mvalidation_data\u001b[0m\u001b[1;33m=\u001b[0m\u001b[0mval_ds\u001b[0m\u001b[1;33m,\u001b[0m\u001b[1;33m\u001b[0m\u001b[1;33m\u001b[0m\u001b[0m\n\u001b[0;32m      4\u001b[0m     \u001b[0msteps_per_epoch\u001b[0m\u001b[1;33m=\u001b[0m\u001b[1;36m100\u001b[0m\u001b[1;33m,\u001b[0m\u001b[1;33m\u001b[0m\u001b[1;33m\u001b[0m\u001b[0m\n\u001b[0;32m      5\u001b[0m     \u001b[0mepochs\u001b[0m\u001b[1;33m=\u001b[0m\u001b[1;36m20\u001b[0m\u001b[1;33m,\u001b[0m\u001b[1;33m\u001b[0m\u001b[1;33m\u001b[0m\u001b[0m\n",
      "\u001b[1;32mc:\\users\\josephdavis\\desktop\\tensorflow notebooks\\env\\lib\\site-packages\\tensorflow\\python\\keras\\engine\\training.py\u001b[0m in \u001b[0;36mfit\u001b[1;34m(self, x, y, batch_size, epochs, verbose, callbacks, validation_split, validation_data, shuffle, class_weight, sample_weight, initial_epoch, steps_per_epoch, validation_steps, validation_batch_size, validation_freq, max_queue_size, workers, use_multiprocessing)\u001b[0m\n\u001b[0;32m   1098\u001b[0m                 _r=1):\n\u001b[0;32m   1099\u001b[0m               \u001b[0mcallbacks\u001b[0m\u001b[1;33m.\u001b[0m\u001b[0mon_train_batch_begin\u001b[0m\u001b[1;33m(\u001b[0m\u001b[0mstep\u001b[0m\u001b[1;33m)\u001b[0m\u001b[1;33m\u001b[0m\u001b[1;33m\u001b[0m\u001b[0m\n\u001b[1;32m-> 1100\u001b[1;33m               \u001b[0mtmp_logs\u001b[0m \u001b[1;33m=\u001b[0m \u001b[0mself\u001b[0m\u001b[1;33m.\u001b[0m\u001b[0mtrain_function\u001b[0m\u001b[1;33m(\u001b[0m\u001b[0miterator\u001b[0m\u001b[1;33m)\u001b[0m\u001b[1;33m\u001b[0m\u001b[1;33m\u001b[0m\u001b[0m\n\u001b[0m\u001b[0;32m   1101\u001b[0m               \u001b[1;32mif\u001b[0m \u001b[0mdata_handler\u001b[0m\u001b[1;33m.\u001b[0m\u001b[0mshould_sync\u001b[0m\u001b[1;33m:\u001b[0m\u001b[1;33m\u001b[0m\u001b[1;33m\u001b[0m\u001b[0m\n\u001b[0;32m   1102\u001b[0m                 \u001b[0mcontext\u001b[0m\u001b[1;33m.\u001b[0m\u001b[0masync_wait\u001b[0m\u001b[1;33m(\u001b[0m\u001b[1;33m)\u001b[0m\u001b[1;33m\u001b[0m\u001b[1;33m\u001b[0m\u001b[0m\n",
      "\u001b[1;32mc:\\users\\josephdavis\\desktop\\tensorflow notebooks\\env\\lib\\site-packages\\tensorflow\\python\\eager\\def_function.py\u001b[0m in \u001b[0;36m__call__\u001b[1;34m(self, *args, **kwds)\u001b[0m\n\u001b[0;32m    826\u001b[0m     \u001b[0mtracing_count\u001b[0m \u001b[1;33m=\u001b[0m \u001b[0mself\u001b[0m\u001b[1;33m.\u001b[0m\u001b[0mexperimental_get_tracing_count\u001b[0m\u001b[1;33m(\u001b[0m\u001b[1;33m)\u001b[0m\u001b[1;33m\u001b[0m\u001b[1;33m\u001b[0m\u001b[0m\n\u001b[0;32m    827\u001b[0m     \u001b[1;32mwith\u001b[0m \u001b[0mtrace\u001b[0m\u001b[1;33m.\u001b[0m\u001b[0mTrace\u001b[0m\u001b[1;33m(\u001b[0m\u001b[0mself\u001b[0m\u001b[1;33m.\u001b[0m\u001b[0m_name\u001b[0m\u001b[1;33m)\u001b[0m \u001b[1;32mas\u001b[0m \u001b[0mtm\u001b[0m\u001b[1;33m:\u001b[0m\u001b[1;33m\u001b[0m\u001b[1;33m\u001b[0m\u001b[0m\n\u001b[1;32m--> 828\u001b[1;33m       \u001b[0mresult\u001b[0m \u001b[1;33m=\u001b[0m \u001b[0mself\u001b[0m\u001b[1;33m.\u001b[0m\u001b[0m_call\u001b[0m\u001b[1;33m(\u001b[0m\u001b[1;33m*\u001b[0m\u001b[0margs\u001b[0m\u001b[1;33m,\u001b[0m \u001b[1;33m**\u001b[0m\u001b[0mkwds\u001b[0m\u001b[1;33m)\u001b[0m\u001b[1;33m\u001b[0m\u001b[1;33m\u001b[0m\u001b[0m\n\u001b[0m\u001b[0;32m    829\u001b[0m       \u001b[0mcompiler\u001b[0m \u001b[1;33m=\u001b[0m \u001b[1;34m\"xla\"\u001b[0m \u001b[1;32mif\u001b[0m \u001b[0mself\u001b[0m\u001b[1;33m.\u001b[0m\u001b[0m_experimental_compile\u001b[0m \u001b[1;32melse\u001b[0m \u001b[1;34m\"nonXla\"\u001b[0m\u001b[1;33m\u001b[0m\u001b[1;33m\u001b[0m\u001b[0m\n\u001b[0;32m    830\u001b[0m       \u001b[0mnew_tracing_count\u001b[0m \u001b[1;33m=\u001b[0m \u001b[0mself\u001b[0m\u001b[1;33m.\u001b[0m\u001b[0mexperimental_get_tracing_count\u001b[0m\u001b[1;33m(\u001b[0m\u001b[1;33m)\u001b[0m\u001b[1;33m\u001b[0m\u001b[1;33m\u001b[0m\u001b[0m\n",
      "\u001b[1;32mc:\\users\\josephdavis\\desktop\\tensorflow notebooks\\env\\lib\\site-packages\\tensorflow\\python\\eager\\def_function.py\u001b[0m in \u001b[0;36m_call\u001b[1;34m(self, *args, **kwds)\u001b[0m\n\u001b[0;32m    869\u001b[0m       \u001b[1;31m# This is the first call of __call__, so we have to initialize.\u001b[0m\u001b[1;33m\u001b[0m\u001b[1;33m\u001b[0m\u001b[1;33m\u001b[0m\u001b[0m\n\u001b[0;32m    870\u001b[0m       \u001b[0minitializers\u001b[0m \u001b[1;33m=\u001b[0m \u001b[1;33m[\u001b[0m\u001b[1;33m]\u001b[0m\u001b[1;33m\u001b[0m\u001b[1;33m\u001b[0m\u001b[0m\n\u001b[1;32m--> 871\u001b[1;33m       \u001b[0mself\u001b[0m\u001b[1;33m.\u001b[0m\u001b[0m_initialize\u001b[0m\u001b[1;33m(\u001b[0m\u001b[0margs\u001b[0m\u001b[1;33m,\u001b[0m \u001b[0mkwds\u001b[0m\u001b[1;33m,\u001b[0m \u001b[0madd_initializers_to\u001b[0m\u001b[1;33m=\u001b[0m\u001b[0minitializers\u001b[0m\u001b[1;33m)\u001b[0m\u001b[1;33m\u001b[0m\u001b[1;33m\u001b[0m\u001b[0m\n\u001b[0m\u001b[0;32m    872\u001b[0m     \u001b[1;32mfinally\u001b[0m\u001b[1;33m:\u001b[0m\u001b[1;33m\u001b[0m\u001b[1;33m\u001b[0m\u001b[0m\n\u001b[0;32m    873\u001b[0m       \u001b[1;31m# At this point we know that the initialization is complete (or less\u001b[0m\u001b[1;33m\u001b[0m\u001b[1;33m\u001b[0m\u001b[1;33m\u001b[0m\u001b[0m\n",
      "\u001b[1;32mc:\\users\\josephdavis\\desktop\\tensorflow notebooks\\env\\lib\\site-packages\\tensorflow\\python\\eager\\def_function.py\u001b[0m in \u001b[0;36m_initialize\u001b[1;34m(self, args, kwds, add_initializers_to)\u001b[0m\n\u001b[0;32m    723\u001b[0m     \u001b[0mself\u001b[0m\u001b[1;33m.\u001b[0m\u001b[0m_graph_deleter\u001b[0m \u001b[1;33m=\u001b[0m \u001b[0mFunctionDeleter\u001b[0m\u001b[1;33m(\u001b[0m\u001b[0mself\u001b[0m\u001b[1;33m.\u001b[0m\u001b[0m_lifted_initializer_graph\u001b[0m\u001b[1;33m)\u001b[0m\u001b[1;33m\u001b[0m\u001b[1;33m\u001b[0m\u001b[0m\n\u001b[0;32m    724\u001b[0m     self._concrete_stateful_fn = (\n\u001b[1;32m--> 725\u001b[1;33m         self._stateful_fn._get_concrete_function_internal_garbage_collected(  # pylint: disable=protected-access\n\u001b[0m\u001b[0;32m    726\u001b[0m             *args, **kwds))\n\u001b[0;32m    727\u001b[0m \u001b[1;33m\u001b[0m\u001b[0m\n",
      "\u001b[1;32mc:\\users\\josephdavis\\desktop\\tensorflow notebooks\\env\\lib\\site-packages\\tensorflow\\python\\eager\\function.py\u001b[0m in \u001b[0;36m_get_concrete_function_internal_garbage_collected\u001b[1;34m(self, *args, **kwargs)\u001b[0m\n\u001b[0;32m   2967\u001b[0m       \u001b[0margs\u001b[0m\u001b[1;33m,\u001b[0m \u001b[0mkwargs\u001b[0m \u001b[1;33m=\u001b[0m \u001b[1;32mNone\u001b[0m\u001b[1;33m,\u001b[0m \u001b[1;32mNone\u001b[0m\u001b[1;33m\u001b[0m\u001b[1;33m\u001b[0m\u001b[0m\n\u001b[0;32m   2968\u001b[0m     \u001b[1;32mwith\u001b[0m \u001b[0mself\u001b[0m\u001b[1;33m.\u001b[0m\u001b[0m_lock\u001b[0m\u001b[1;33m:\u001b[0m\u001b[1;33m\u001b[0m\u001b[1;33m\u001b[0m\u001b[0m\n\u001b[1;32m-> 2969\u001b[1;33m       \u001b[0mgraph_function\u001b[0m\u001b[1;33m,\u001b[0m \u001b[0m_\u001b[0m \u001b[1;33m=\u001b[0m \u001b[0mself\u001b[0m\u001b[1;33m.\u001b[0m\u001b[0m_maybe_define_function\u001b[0m\u001b[1;33m(\u001b[0m\u001b[0margs\u001b[0m\u001b[1;33m,\u001b[0m \u001b[0mkwargs\u001b[0m\u001b[1;33m)\u001b[0m\u001b[1;33m\u001b[0m\u001b[1;33m\u001b[0m\u001b[0m\n\u001b[0m\u001b[0;32m   2970\u001b[0m     \u001b[1;32mreturn\u001b[0m \u001b[0mgraph_function\u001b[0m\u001b[1;33m\u001b[0m\u001b[1;33m\u001b[0m\u001b[0m\n\u001b[0;32m   2971\u001b[0m \u001b[1;33m\u001b[0m\u001b[0m\n",
      "\u001b[1;32mc:\\users\\josephdavis\\desktop\\tensorflow notebooks\\env\\lib\\site-packages\\tensorflow\\python\\eager\\function.py\u001b[0m in \u001b[0;36m_maybe_define_function\u001b[1;34m(self, args, kwargs)\u001b[0m\n\u001b[0;32m   3359\u001b[0m \u001b[1;33m\u001b[0m\u001b[0m\n\u001b[0;32m   3360\u001b[0m           \u001b[0mself\u001b[0m\u001b[1;33m.\u001b[0m\u001b[0m_function_cache\u001b[0m\u001b[1;33m.\u001b[0m\u001b[0mmissed\u001b[0m\u001b[1;33m.\u001b[0m\u001b[0madd\u001b[0m\u001b[1;33m(\u001b[0m\u001b[0mcall_context_key\u001b[0m\u001b[1;33m)\u001b[0m\u001b[1;33m\u001b[0m\u001b[1;33m\u001b[0m\u001b[0m\n\u001b[1;32m-> 3361\u001b[1;33m           \u001b[0mgraph_function\u001b[0m \u001b[1;33m=\u001b[0m \u001b[0mself\u001b[0m\u001b[1;33m.\u001b[0m\u001b[0m_create_graph_function\u001b[0m\u001b[1;33m(\u001b[0m\u001b[0margs\u001b[0m\u001b[1;33m,\u001b[0m \u001b[0mkwargs\u001b[0m\u001b[1;33m)\u001b[0m\u001b[1;33m\u001b[0m\u001b[1;33m\u001b[0m\u001b[0m\n\u001b[0m\u001b[0;32m   3362\u001b[0m           \u001b[0mself\u001b[0m\u001b[1;33m.\u001b[0m\u001b[0m_function_cache\u001b[0m\u001b[1;33m.\u001b[0m\u001b[0mprimary\u001b[0m\u001b[1;33m[\u001b[0m\u001b[0mcache_key\u001b[0m\u001b[1;33m]\u001b[0m \u001b[1;33m=\u001b[0m \u001b[0mgraph_function\u001b[0m\u001b[1;33m\u001b[0m\u001b[1;33m\u001b[0m\u001b[0m\n\u001b[0;32m   3363\u001b[0m \u001b[1;33m\u001b[0m\u001b[0m\n",
      "\u001b[1;32mc:\\users\\josephdavis\\desktop\\tensorflow notebooks\\env\\lib\\site-packages\\tensorflow\\python\\eager\\function.py\u001b[0m in \u001b[0;36m_create_graph_function\u001b[1;34m(self, args, kwargs, override_flat_arg_shapes)\u001b[0m\n\u001b[0;32m   3194\u001b[0m     \u001b[0marg_names\u001b[0m \u001b[1;33m=\u001b[0m \u001b[0mbase_arg_names\u001b[0m \u001b[1;33m+\u001b[0m \u001b[0mmissing_arg_names\u001b[0m\u001b[1;33m\u001b[0m\u001b[1;33m\u001b[0m\u001b[0m\n\u001b[0;32m   3195\u001b[0m     graph_function = ConcreteFunction(\n\u001b[1;32m-> 3196\u001b[1;33m         func_graph_module.func_graph_from_py_func(\n\u001b[0m\u001b[0;32m   3197\u001b[0m             \u001b[0mself\u001b[0m\u001b[1;33m.\u001b[0m\u001b[0m_name\u001b[0m\u001b[1;33m,\u001b[0m\u001b[1;33m\u001b[0m\u001b[1;33m\u001b[0m\u001b[0m\n\u001b[0;32m   3198\u001b[0m             \u001b[0mself\u001b[0m\u001b[1;33m.\u001b[0m\u001b[0m_python_function\u001b[0m\u001b[1;33m,\u001b[0m\u001b[1;33m\u001b[0m\u001b[1;33m\u001b[0m\u001b[0m\n",
      "\u001b[1;32mc:\\users\\josephdavis\\desktop\\tensorflow notebooks\\env\\lib\\site-packages\\tensorflow\\python\\framework\\func_graph.py\u001b[0m in \u001b[0;36mfunc_graph_from_py_func\u001b[1;34m(name, python_func, args, kwargs, signature, func_graph, autograph, autograph_options, add_control_dependencies, arg_names, op_return_value, collections, capture_by_value, override_flat_arg_shapes)\u001b[0m\n\u001b[0;32m    988\u001b[0m         \u001b[0m_\u001b[0m\u001b[1;33m,\u001b[0m \u001b[0moriginal_func\u001b[0m \u001b[1;33m=\u001b[0m \u001b[0mtf_decorator\u001b[0m\u001b[1;33m.\u001b[0m\u001b[0munwrap\u001b[0m\u001b[1;33m(\u001b[0m\u001b[0mpython_func\u001b[0m\u001b[1;33m)\u001b[0m\u001b[1;33m\u001b[0m\u001b[1;33m\u001b[0m\u001b[0m\n\u001b[0;32m    989\u001b[0m \u001b[1;33m\u001b[0m\u001b[0m\n\u001b[1;32m--> 990\u001b[1;33m       \u001b[0mfunc_outputs\u001b[0m \u001b[1;33m=\u001b[0m \u001b[0mpython_func\u001b[0m\u001b[1;33m(\u001b[0m\u001b[1;33m*\u001b[0m\u001b[0mfunc_args\u001b[0m\u001b[1;33m,\u001b[0m \u001b[1;33m**\u001b[0m\u001b[0mfunc_kwargs\u001b[0m\u001b[1;33m)\u001b[0m\u001b[1;33m\u001b[0m\u001b[1;33m\u001b[0m\u001b[0m\n\u001b[0m\u001b[0;32m    991\u001b[0m \u001b[1;33m\u001b[0m\u001b[0m\n\u001b[0;32m    992\u001b[0m       \u001b[1;31m# invariant: `func_outputs` contains only Tensors, CompositeTensors,\u001b[0m\u001b[1;33m\u001b[0m\u001b[1;33m\u001b[0m\u001b[1;33m\u001b[0m\u001b[0m\n",
      "\u001b[1;32mc:\\users\\josephdavis\\desktop\\tensorflow notebooks\\env\\lib\\site-packages\\tensorflow\\python\\eager\\def_function.py\u001b[0m in \u001b[0;36mwrapped_fn\u001b[1;34m(*args, **kwds)\u001b[0m\n\u001b[0;32m    632\u001b[0m             \u001b[0mxla_context\u001b[0m\u001b[1;33m.\u001b[0m\u001b[0mExit\u001b[0m\u001b[1;33m(\u001b[0m\u001b[1;33m)\u001b[0m\u001b[1;33m\u001b[0m\u001b[1;33m\u001b[0m\u001b[0m\n\u001b[0;32m    633\u001b[0m         \u001b[1;32melse\u001b[0m\u001b[1;33m:\u001b[0m\u001b[1;33m\u001b[0m\u001b[1;33m\u001b[0m\u001b[0m\n\u001b[1;32m--> 634\u001b[1;33m           \u001b[0mout\u001b[0m \u001b[1;33m=\u001b[0m \u001b[0mweak_wrapped_fn\u001b[0m\u001b[1;33m(\u001b[0m\u001b[1;33m)\u001b[0m\u001b[1;33m.\u001b[0m\u001b[0m__wrapped__\u001b[0m\u001b[1;33m(\u001b[0m\u001b[1;33m*\u001b[0m\u001b[0margs\u001b[0m\u001b[1;33m,\u001b[0m \u001b[1;33m**\u001b[0m\u001b[0mkwds\u001b[0m\u001b[1;33m)\u001b[0m\u001b[1;33m\u001b[0m\u001b[1;33m\u001b[0m\u001b[0m\n\u001b[0m\u001b[0;32m    635\u001b[0m         \u001b[1;32mreturn\u001b[0m \u001b[0mout\u001b[0m\u001b[1;33m\u001b[0m\u001b[1;33m\u001b[0m\u001b[0m\n\u001b[0;32m    636\u001b[0m \u001b[1;33m\u001b[0m\u001b[0m\n",
      "\u001b[1;32mc:\\users\\josephdavis\\desktop\\tensorflow notebooks\\env\\lib\\site-packages\\tensorflow\\python\\framework\\func_graph.py\u001b[0m in \u001b[0;36mwrapper\u001b[1;34m(*args, **kwargs)\u001b[0m\n\u001b[0;32m    975\u001b[0m           \u001b[1;32mexcept\u001b[0m \u001b[0mException\u001b[0m \u001b[1;32mas\u001b[0m \u001b[0me\u001b[0m\u001b[1;33m:\u001b[0m  \u001b[1;31m# pylint:disable=broad-except\u001b[0m\u001b[1;33m\u001b[0m\u001b[1;33m\u001b[0m\u001b[0m\n\u001b[0;32m    976\u001b[0m             \u001b[1;32mif\u001b[0m \u001b[0mhasattr\u001b[0m\u001b[1;33m(\u001b[0m\u001b[0me\u001b[0m\u001b[1;33m,\u001b[0m \u001b[1;34m\"ag_error_metadata\"\u001b[0m\u001b[1;33m)\u001b[0m\u001b[1;33m:\u001b[0m\u001b[1;33m\u001b[0m\u001b[1;33m\u001b[0m\u001b[0m\n\u001b[1;32m--> 977\u001b[1;33m               \u001b[1;32mraise\u001b[0m \u001b[0me\u001b[0m\u001b[1;33m.\u001b[0m\u001b[0mag_error_metadata\u001b[0m\u001b[1;33m.\u001b[0m\u001b[0mto_exception\u001b[0m\u001b[1;33m(\u001b[0m\u001b[0me\u001b[0m\u001b[1;33m)\u001b[0m\u001b[1;33m\u001b[0m\u001b[1;33m\u001b[0m\u001b[0m\n\u001b[0m\u001b[0;32m    978\u001b[0m             \u001b[1;32melse\u001b[0m\u001b[1;33m:\u001b[0m\u001b[1;33m\u001b[0m\u001b[1;33m\u001b[0m\u001b[0m\n\u001b[0;32m    979\u001b[0m               \u001b[1;32mraise\u001b[0m\u001b[1;33m\u001b[0m\u001b[1;33m\u001b[0m\u001b[0m\n",
      "\u001b[1;31mValueError\u001b[0m: in user code:\n\n    c:\\users\\josephdavis\\desktop\\tensorflow notebooks\\env\\lib\\site-packages\\tensorflow\\python\\keras\\engine\\training.py:805 train_function  *\n        return step_function(self, iterator)\n    c:\\users\\josephdavis\\desktop\\tensorflow notebooks\\env\\lib\\site-packages\\tensorflow\\python\\keras\\engine\\training.py:795 step_function  **\n        outputs = model.distribute_strategy.run(run_step, args=(data,))\n    c:\\users\\josephdavis\\desktop\\tensorflow notebooks\\env\\lib\\site-packages\\tensorflow\\python\\distribute\\distribute_lib.py:1259 run\n        return self._extended.call_for_each_replica(fn, args=args, kwargs=kwargs)\n    c:\\users\\josephdavis\\desktop\\tensorflow notebooks\\env\\lib\\site-packages\\tensorflow\\python\\distribute\\distribute_lib.py:2730 call_for_each_replica\n        return self._call_for_each_replica(fn, args, kwargs)\n    c:\\users\\josephdavis\\desktop\\tensorflow notebooks\\env\\lib\\site-packages\\tensorflow\\python\\distribute\\distribute_lib.py:3417 _call_for_each_replica\n        return fn(*args, **kwargs)\n    c:\\users\\josephdavis\\desktop\\tensorflow notebooks\\env\\lib\\site-packages\\tensorflow\\python\\keras\\engine\\training.py:788 run_step  **\n        outputs = model.train_step(data)\n    c:\\users\\josephdavis\\desktop\\tensorflow notebooks\\env\\lib\\site-packages\\tensorflow\\python\\keras\\engine\\training.py:757 train_step\n        self.optimizer.minimize(loss, self.trainable_variables, tape=tape)\n    c:\\users\\josephdavis\\desktop\\tensorflow notebooks\\env\\lib\\site-packages\\tensorflow\\python\\keras\\optimizer_v2\\optimizer_v2.py:498 minimize\n        return self.apply_gradients(grads_and_vars, name=name)\n    c:\\users\\josephdavis\\desktop\\tensorflow notebooks\\env\\lib\\site-packages\\tensorflow\\python\\keras\\optimizer_v2\\optimizer_v2.py:598 apply_gradients\n        grads_and_vars = optimizer_utils.filter_empty_gradients(grads_and_vars)\n    c:\\users\\josephdavis\\desktop\\tensorflow notebooks\\env\\lib\\site-packages\\tensorflow\\python\\keras\\optimizer_v2\\utils.py:78 filter_empty_gradients\n        raise ValueError(\"No gradients provided for any variable: %s.\" %\n\n    ValueError: No gradients provided for any variable: ['conv2d/kernel:0', 'batch_normalization/beta:0', 'conv2d_1/kernel:0', 'batch_normalization_1/beta:0', 'conv2d_2/kernel:0', 'batch_normalization_2/beta:0', 'conv2d_3/kernel:0', 'batch_normalization_3/beta:0', 'conv2d_4/kernel:0', 'batch_normalization_4/beta:0', 'conv2d_8/kernel:0', 'batch_normalization_8/beta:0', 'conv2d_6/kernel:0', 'conv2d_9/kernel:0', 'batch_normalization_6/beta:0', 'batch_normalization_9/beta:0', 'conv2d_5/kernel:0', 'conv2d_7/kernel:0', 'conv2d_10/kernel:0', 'conv2d_11/kernel:0', 'batch_normalization_5/beta:0', 'batch_normalization_7/beta:0', 'batch_normalization_10/beta:0', 'batch_normalization_11/beta:0', 'conv2d_15/kernel:0', 'batch_normalization_15/beta:0', 'conv2d_13/kernel:0', 'conv2d_16/kernel:0', 'batch_normalization_13/beta:0', 'batch_normalization_16/beta:0', 'conv2d_12/kernel:0', 'conv2d_14/kernel:0', 'conv2d_17/kernel:0', 'conv2d_18/kernel:0', 'batch_normalization_12/beta:0', 'batch_normalization_14/beta:0', 'batch_normalization_17/beta:0', 'batch_normalization_18/beta:0', 'conv2d_22/kernel:0', 'batch_normalization_22/beta:0', 'conv2d_20/kernel:0', 'conv2d_23/kernel:0', 'batch_normalization_20/beta:0', 'batch_normalization_23/beta:0', 'conv2d_19/kernel:0', 'conv2d_21/kernel:0', 'conv2d_24/kernel:0', 'conv2d_25/kernel:0', 'batch_normalization_19/beta:0', 'batch_normalization_21/beta:0', 'batch_normalization_24/beta:0', 'batch_normalization_25/beta:0', 'conv2d_27/kernel:0', 'batch_normalization_27/beta:0', 'conv2d_28/kernel:0', 'batch_normalization_28/beta:0', 'conv2d_26/kernel:0', 'conv2d_29/kernel:0', 'batch_normalization_26/beta:0', 'batch_normalization_29/beta:0', 'conv2d_34/kernel:0', 'batch_normalization_34/beta:0', 'conv2d_35/kernel:0', 'batch_normalization_35/beta:0', 'conv2d_31/kernel:0', 'conv2d_36/kernel:0', 'batch_normalization_31/beta:0', 'batch_normalization_36/beta:0', 'conv2d_32/kernel:0', 'conv2d_37/kernel:0', 'batch_normalization_32/beta:0', 'batch_normalization_37/beta:0', 'conv2d_30/kernel:0', 'conv2d_33/kernel:0', 'conv2d_38/kernel:0', 'conv2d_39/kernel:0', 'batch_normalization_30/beta:0', 'batch_normalization_33/beta:0', 'batch_normalization_38/beta:0', 'batch_normalization_39/beta:0', 'conv2d_44/kernel:0', 'batch_normalization_44/beta:0', 'conv2d_45/kernel:0', 'batch_normalization_45/beta:0', 'conv2d_41/kernel:0', 'conv2d_46/kernel:0', 'batch_normalization_41/beta:0', 'batch_normalization_46/beta:0', 'conv2d_42/kernel:0', 'conv2d_47/kernel:0', 'batch_normalization_42/beta:0', 'batch_normalization_47/beta:0', 'conv2d_40/kernel:0', 'conv2d_43/kernel:0', 'conv2d_48/kernel:0', 'conv2d_49/kernel:0', 'batch_normalization_40/beta:0', 'batch_normalization_43/beta:0', 'batch_normalization_48/beta:0', 'batch_normalization_49/beta:0', 'conv2d_54/kernel:0', 'batch_normalization_54/beta:0', 'conv2d_55/kernel:0', 'batch_normalization_55/beta:0', 'conv2d_51/kernel:0', 'conv2d_56/kernel:0', 'batch_normalization_51/beta:0', 'batch_normalization_56/beta:0', 'conv2d_52/kernel:0', 'conv2d_57/kernel:0', 'batch_normalization_52/beta:0', 'batch_normalization_57/beta:0', 'conv2d_50/kernel:0', 'conv2d_53/kernel:0', 'conv2d_58/kernel:0', 'conv2d_59/kernel:0', 'batch_normalization_50/beta:0', 'batch_normalization_53/beta:0', 'batch_normalization_58/beta:0', 'batch_normalization_59/beta:0', 'conv2d_64/kernel:0', 'batch_normalization_64/beta:0', 'conv2d_65/kernel:0', 'batch_normalization_65/beta:0', 'conv2d_61/kernel:0', 'conv2d_66/kernel:0', 'batch_normalization_61/beta:0', 'batch_normalization_66/beta:0', 'conv2d_62/kernel:0', 'conv2d_67/kernel:0', 'batch_normalization_62/beta:0', 'batch_normalization_67/beta:0', 'conv2d_60/kernel:0', 'conv2d_63/kernel:0', 'conv2d_68/kernel:0', 'conv2d_69/kernel:0', 'batch_normalization_60/beta:0', 'batch_normalization_63/beta:0', 'batch_normalization_68/beta:0', 'batch_normalization_69/beta:0', 'dense/kernel:0', 'dense/bias:0', 'dense_1/kernel:0', 'dense_1/bias:0'].\n"
     ]
    }
   ],
   "source": [
    "history = model.fit(\n",
    "    train_ds,\n",
    "    validation_data=val_ds,\n",
    "    steps_per_epoch=100,\n",
    "    epochs=20,\n",
    "    validation_steps=50,\n",
    "    verbose=2,\n",
    ")"
   ]
  },
  {
   "cell_type": "code",
   "execution_count": null,
   "id": "super-poland",
   "metadata": {},
   "outputs": [],
   "source": []
  },
  {
   "cell_type": "code",
   "execution_count": null,
   "id": "baking-vehicle",
   "metadata": {},
   "outputs": [],
   "source": []
  }
 ],
 "metadata": {
  "kernelspec": {
   "display_name": "Python 3",
   "language": "python",
   "name": "python3"
  },
  "language_info": {
   "codemirror_mode": {
    "name": "ipython",
    "version": 3
   },
   "file_extension": ".py",
   "mimetype": "text/x-python",
   "name": "python",
   "nbconvert_exporter": "python",
   "pygments_lexer": "ipython3",
   "version": "3.8.2"
  }
 },
 "nbformat": 4,
 "nbformat_minor": 5
}
