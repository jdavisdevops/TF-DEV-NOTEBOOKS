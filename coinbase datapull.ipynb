{
 "cells": [
  {
   "cell_type": "code",
   "execution_count": 10,
   "id": "attached-cargo",
   "metadata": {},
   "outputs": [],
   "source": [
    "# First import the libraries that we need to use\n",
    "import pandas as pd\n",
    "import requests\n",
    "import json\n",
    "\n",
    "\n",
    "def fetch_daily_data(symbol):\n",
    "    pair_split = symbol.split(\"/\")  # symbol must be in format XXX/XXX ie. BTC/EUR\n",
    "    symbol = pair_split[0] + \"-\" + pair_split[1]\n",
    "    url = f'https://api.pro.coinbase.com/products/{symbol}/candles?granularity=86400'\n",
    "    response = requests.get(url)\n",
    "    if (\n",
    "        response.status_code == 200\n",
    "    ):  # check to make sure the response from server is good\n",
    "        data = pd.DataFrame(\n",
    "            json.loads(response.text),\n",
    "            columns=[\"unix\", \"low\", \"high\", \"open\", \"close\", \"volume\"],\n",
    "        )\n",
    "        data[\"date\"] = pd.to_datetime(\n",
    "            data[\"unix\"], unit=\"s\"\n",
    "        )  # convert to a readable date\n",
    "        data[\"vol_fiat\"] = (\n",
    "            data[\"volume\"] * data[\"close\"]\n",
    "        )  # multiply the BTC volume by closing price to approximate fiat volume\n",
    "\n",
    "        # if we failed to get any data, print an error...otherwise write the file\n",
    "        if data is None:\n",
    "            print(\"Did not return any data from Coinbase for this symbol\")\n",
    "        else:\n",
    "            data.to_csv(\n",
    "                f\"Coinbase_{pair_split[0] + pair_split[1]}_dailydata.csv\", index=False\n",
    "            )\n",
    "    else:\n",
    "        print(\"Did not receieve OK response from Coinbase API\")\n",
    "\n",
    "\n",
    "if __name__ == \"__main__\":\n",
    "    # we set which pair we want to retrieve data for\n",
    "    pair = \"BTC/USD\"\n",
    "    fetch_daily_data(symbol=pair)"
   ]
  },
  {
   "cell_type": "code",
   "execution_count": null,
   "id": "honey-institution",
   "metadata": {},
   "outputs": [],
   "source": []
  }
 ],
 "metadata": {
  "kernelspec": {
   "display_name": "Python 3",
   "language": "python",
   "name": "python3"
  },
  "language_info": {
   "codemirror_mode": {
    "name": "ipython",
    "version": 3
   },
   "file_extension": ".py",
   "mimetype": "text/x-python",
   "name": "python",
   "nbconvert_exporter": "python",
   "pygments_lexer": "ipython3",
   "version": "3.8.8"
  }
 },
 "nbformat": 4,
 "nbformat_minor": 5
}
