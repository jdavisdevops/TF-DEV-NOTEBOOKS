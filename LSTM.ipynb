{
 "cells": [
  {
   "cell_type": "code",
   "execution_count": 1,
   "id": "amateur-analyst",
   "metadata": {},
   "outputs": [],
   "source": [
    "from __future__ import absolute_import, division, print_function, unicode_literals\n",
    "\n",
    "import tensorflow as tf\n",
    "import tensorflow_datasets as tfds\n",
    "\n",
    "tf.distribute.OneDeviceStrategy(device=\"/gpu:0\")\n",
    "# policy = tf.keras.mixed_precision.Policy(\"mixed_float16\")\n",
    "# tf.keras.mixed_precision.experimental.set_policy(policy)\n",
    "\n",
    "AUTOTUNE = tf.data.AUTOTUNE"
   ]
  },
  {
   "cell_type": "code",
   "execution_count": 2,
   "id": "neutral-investor",
   "metadata": {},
   "outputs": [
    {
     "name": "stderr",
     "output_type": "stream",
     "text": [
      "WARNING:absl:TFDS datasets with text encoding are deprecated and will be removed in a future version. Instead, you should use the plain text version and tokenize the text using `tensorflow_text` (See: https://www.tensorflow.org/tutorials/tensorflow_text/intro#tfdata_example)\n"
     ]
    }
   ],
   "source": [
    "# Get the data\n",
    "dataset, info = tfds.load(\"imdb_reviews/subwords8k\", with_info=True, as_supervised=True)\n",
    "train_dataset, test_dataset = dataset[\"train\"], dataset[\"test\"]"
   ]
  },
  {
   "cell_type": "code",
   "execution_count": 35,
   "id": "capital-minute",
   "metadata": {},
   "outputs": [
    {
     "ename": "AttributeError",
     "evalue": "'PrefetchDataset' object has no attribute 'takeone'",
     "output_type": "error",
     "traceback": [
      "\u001b[1;31m---------------------------------------------------------------------------\u001b[0m",
      "\u001b[1;31mAttributeError\u001b[0m                            Traceback (most recent call last)",
      "\u001b[1;32m<ipython-input-35-428a46f3b680>\u001b[0m in \u001b[0;36m<module>\u001b[1;34m\u001b[0m\n\u001b[0;32m      1\u001b[0m \u001b[0mtokenizer\u001b[0m \u001b[1;33m=\u001b[0m \u001b[0minfo\u001b[0m\u001b[1;33m.\u001b[0m\u001b[0mfeatures\u001b[0m\u001b[1;33m[\u001b[0m\u001b[1;34m\"text\"\u001b[0m\u001b[1;33m]\u001b[0m\u001b[1;33m.\u001b[0m\u001b[0mencoder\u001b[0m\u001b[1;33m\u001b[0m\u001b[1;33m\u001b[0m\u001b[0m\n\u001b[0;32m      2\u001b[0m \u001b[1;33m\u001b[0m\u001b[0m\n\u001b[1;32m----> 3\u001b[1;33m \u001b[0mtrain_dataset\u001b[0m\u001b[1;33m.\u001b[0m\u001b[0mtakeone\u001b[0m\u001b[1;33m(\u001b[0m\u001b[1;36m4\u001b[0m\u001b[1;33m)\u001b[0m\u001b[1;33m\u001b[0m\u001b[1;33m\u001b[0m\u001b[0m\n\u001b[0m",
      "\u001b[1;31mAttributeError\u001b[0m: 'PrefetchDataset' object has no attribute 'takeone'"
     ]
    }
   ],
   "source": [
    "tokenizer = info.features[\"text\"].encoder"
   ]
  },
  {
   "cell_type": "code",
   "execution_count": 4,
   "id": "suffering-differential",
   "metadata": {},
   "outputs": [],
   "source": [
    "BUFFER_SIZE = 10000\n",
    "BATCH_SIZE = 64\n",
    "# train_shapes = tf.compat.v1.data.get_output_shapes(train_dataset)\n",
    "# test_shapes = tf.compat.v1.data.get_output_shapes(test_dataset)\n",
    "# train_dataset = train_dataset.cache()\n",
    "# test_dataset = test_dataset.cache()\n",
    "# train_dataset = train_dataset.shuffle(BUFFER_SIZE)\n",
    "# train_dataset = train_dataset.padded_batch(BATCH_SIZE, train_shapes)\n",
    "# test_dataset = test_dataset.padded_batch(BATCH_SIZE, test_shapes)\n",
    "# train_dataset = train_dataset.prefetch(buffer_size=AUTOTUNE)\n",
    "# test_dataset = test_dataset.prefetch(buffer_size=AUTOTUNE)"
   ]
  },
  {
   "cell_type": "code",
   "execution_count": 5,
   "id": "encouraging-costs",
   "metadata": {},
   "outputs": [],
   "source": [
    "def prepare(ds, shuffle=False):\n",
    "    ds_shape = tf.compat.v1.data.get_output_shapes(ds)\n",
    "\n",
    "    ds = ds.cache()\n",
    "\n",
    "    if shuffle:\n",
    "        ds = ds.shuffle(BUFFER_SIZE)\n",
    "\n",
    "    ds = ds.padded_batch(BATCH_SIZE, ds_shape)\n",
    "\n",
    "    return ds.prefetch(buffer_size=AUTOTUNE)"
   ]
  },
  {
   "cell_type": "code",
   "execution_count": 6,
   "id": "behavioral-spirituality",
   "metadata": {},
   "outputs": [],
   "source": [
    "train_dataset = prepare(train_dataset, shuffle=True)\n",
    "test_dataset = prepare(test_dataset)"
   ]
  },
  {
   "cell_type": "code",
   "execution_count": 37,
   "id": "elder-bachelor",
   "metadata": {},
   "outputs": [],
   "source": [
    "# model = tf.keras.Sequential(\n",
    "#     [\n",
    "#         tf.keras.layers.Embedding(tokenizer.vocab_size, 64),\n",
    "#         tf.keras.layers.Bidirectional(tf.keras.layers.LSTM(64, return_sequences=True)),\n",
    "#         tf.keras.layers.Bidirectional(tf.keras.layers.LSTM(32)),\n",
    "#         tf.keras.layers.Dense(64, activation=\"relu\"),\n",
    "#         tf.keras.layers.Dense(1, activation=\"sigmoid\"),\n",
    "#     ]\n",
    "# )\n",
    "\n",
    "from tensorflow.keras.models import load_model\n",
    "\n",
    "model = load_model('saved_models/lstm')"
   ]
  },
  {
   "cell_type": "code",
   "execution_count": 38,
   "id": "literary-strength",
   "metadata": {},
   "outputs": [
    {
     "name": "stdout",
     "output_type": "stream",
     "text": [
      "Model: \"sequential\"\n",
      "_________________________________________________________________\n",
      "Layer (type)                 Output Shape              Param #   \n",
      "=================================================================\n",
      "embedding (Embedding)        (None, None, 64)          523840    \n",
      "_________________________________________________________________\n",
      "bidirectional (Bidirectional (None, None, 128)         66048     \n",
      "_________________________________________________________________\n",
      "bidirectional_1 (Bidirection (None, 64)                41216     \n",
      "_________________________________________________________________\n",
      "dense (Dense)                (None, 64)                4160      \n",
      "_________________________________________________________________\n",
      "dense_1 (Dense)              (None, 1)                 65        \n",
      "=================================================================\n",
      "Total params: 635,329\n",
      "Trainable params: 635,329\n",
      "Non-trainable params: 0\n",
      "_________________________________________________________________\n"
     ]
    }
   ],
   "source": [
    "model.summary()"
   ]
  },
  {
   "cell_type": "code",
   "execution_count": 9,
   "id": "continent-court",
   "metadata": {},
   "outputs": [],
   "source": [
    "# model.compile(loss=\"binary_crossentropy\", optimizer=\"adam\", metrics=[\"accuracy\"])"
   ]
  },
  {
   "cell_type": "code",
   "execution_count": 10,
   "id": "unavailable-hurricane",
   "metadata": {},
   "outputs": [
    {
     "name": "stdout",
     "output_type": "stream",
     "text": [
      "Epoch 1/10\n",
      "391/391 [==============================] - 379s 953ms/step - loss: 0.6417 - accuracy: 0.6237 - val_loss: 0.5552 - val_accuracy: 0.7295\n",
      "Epoch 2/10\n",
      "391/391 [==============================] - 372s 952ms/step - loss: 0.5069 - accuracy: 0.7634 - val_loss: 0.4808 - val_accuracy: 0.7744\n",
      "Epoch 3/10\n",
      "391/391 [==============================] - 376s 962ms/step - loss: 0.4096 - accuracy: 0.8229 - val_loss: 0.5008 - val_accuracy: 0.7575\n",
      "Epoch 4/10\n",
      "391/391 [==============================] - 378s 968ms/step - loss: 0.3836 - accuracy: 0.8422 - val_loss: 0.4099 - val_accuracy: 0.8274\n",
      "Epoch 5/10\n",
      "391/391 [==============================] - 376s 962ms/step - loss: 0.2865 - accuracy: 0.8869 - val_loss: 0.5055 - val_accuracy: 0.7569\n",
      "Epoch 6/10\n",
      "391/391 [==============================] - 374s 958ms/step - loss: 0.4445 - accuracy: 0.8034 - val_loss: 0.4256 - val_accuracy: 0.8126\n",
      "Epoch 7/10\n",
      "391/391 [==============================] - 377s 964ms/step - loss: 0.3252 - accuracy: 0.8593 - val_loss: 0.4307 - val_accuracy: 0.8282\n",
      "Epoch 8/10\n",
      "391/391 [==============================] - 374s 958ms/step - loss: 0.3092 - accuracy: 0.8788 - val_loss: 0.5588 - val_accuracy: 0.7451\n",
      "Epoch 9/10\n",
      "391/391 [==============================] - 375s 961ms/step - loss: 0.3261 - accuracy: 0.8744 - val_loss: 0.4078 - val_accuracy: 0.8362\n",
      "Epoch 10/10\n",
      "391/391 [==============================] - 372s 954ms/step - loss: 0.2559 - accuracy: 0.8996 - val_loss: 0.4141 - val_accuracy: 0.8181\n"
     ]
    }
   ],
   "source": [
    "# NUM_EPOCHS = 10\n",
    "# history = model.fit(train_dataset, epochs=NUM_EPOCHS, validation_data=test_dataset)"
   ]
  },
  {
   "cell_type": "code",
   "execution_count": 12,
   "id": "economic-telescope",
   "metadata": {},
   "outputs": [],
   "source": [
    "# import matplotlib.pyplot as plt\n",
    "\n",
    "# def plot_graphs(history, string):\n",
    "#     plt.plot(history.history[string])\n",
    "#     plt.plot(history.history['val_' + string])\n",
    "#     plt.xlabel('Epochs')\n",
    "#     plt.ylabel(string)\n",
    "#     plt.legend([string, 'val_' + string])\n",
    "#     plt.show()"
   ]
  },
  {
   "cell_type": "code",
   "execution_count": 13,
   "id": "universal-butter",
   "metadata": {},
   "outputs": [
    {
     "data": {
      "image/png": "[encoded data removed]",
      "text/plain": [
       "<Figure size 432x288 with 1 Axes>"
      ]
     },
     "metadata": {
      "needs_background": "light"
     },
     "output_type": "display_data"
    }
   ],
   "source": [
    "# plot_graphs(history, 'accuracy')"
   ]
  },
  {
   "cell_type": "code",
   "execution_count": 15,
   "id": "seventh-banner",
   "metadata": {},
   "outputs": [
    {
     "data": {
      "image/png": "[encoded data removed]",
      "text/plain": [
       "<Figure size 432x288 with 1 Axes>"
      ]
     },
     "metadata": {
      "needs_background": "light"
     },
     "output_type": "display_data"
    }
   ],
   "source": [
    "# plot_graphs(history, 'loss')"
   ]
  },
  {
   "cell_type": "code",
   "execution_count": 39,
   "id": "military-tackle",
   "metadata": {},
   "outputs": [
    {
     "name": "stdout",
     "output_type": "stream",
     "text": [
      "391/391 [==============================] - 131s 334ms/step - loss: 0.4141 - accuracy: 0.8181\n"
     ]
    },
    {
     "data": {
      "text/plain": [
       "[0.4141426086425781, 0.8180800080299377]"
      ]
     },
     "execution_count": 39,
     "metadata": {},
     "output_type": "execute_result"
    }
   ],
   "source": [
    "model.evaluate(test_dataset)"
   ]
  },
  {
   "cell_type": "code",
   "execution_count": 40,
   "id": "hindu-validation",
   "metadata": {},
   "outputs": [
    {
     "name": "stdout",
     "output_type": "stream",
     "text": [
      "model pred:\n",
      "[[0.90388864]\n",
      " [0.9475473 ]\n",
      " [0.30983862]\n",
      " [0.6501941 ]]\n"
     ]
    }
   ],
   "source": [
    "from tensorflow.keras.preprocessing.text import Tokenizer\n",
    "from tensorflow.keras.preprocessing.sequence import pad_sequences\n",
    "\n",
    "max_length = 100\n",
    "padding_type = 'post'\n",
    "truncating_type = 'post'\n",
    "tokenizer = Tokenizer(num_words=1000, oov_token='<OOV>')\n",
    "\n",
    "sentences = ['wow, such a good idea',\n",
    "            'game of thrones season finale showing this sunday night',\n",
    "            'that movie was very lame to watch',\n",
    "            'what a horrible movie']\n",
    "\n",
    "tokenizer.fit_on_texts(sentences)\n",
    "sequences = tokenizer.texts_to_sequences(sentences)\n",
    "padded = pad_sequences(sequences, maxlen=max_length, padding=padding_type, truncating=truncating_type)\n",
    "\n",
    "\n",
    "print(\"model pred:\")\n",
    "print(model.predict(padded))"
   ]
  },
  {
   "cell_type": "code",
   "execution_count": 30,
   "id": "instructional-damages",
   "metadata": {},
   "outputs": [
    {
     "name": "stderr",
     "output_type": "stream",
     "text": [
      "WARNING:absl:Found untraced functions such as lstm_cell_1_layer_call_and_return_conditional_losses, lstm_cell_1_layer_call_fn, lstm_cell_2_layer_call_and_return_conditional_losses, lstm_cell_2_layer_call_fn, lstm_cell_4_layer_call_and_return_conditional_losses while saving (showing 5 of 20). These functions will not be directly callable after loading.\n",
      "WARNING:absl:Found untraced functions such as lstm_cell_1_layer_call_and_return_conditional_losses, lstm_cell_1_layer_call_fn, lstm_cell_2_layer_call_and_return_conditional_losses, lstm_cell_2_layer_call_fn, lstm_cell_4_layer_call_and_return_conditional_losses while saving (showing 5 of 20). These functions will not be directly callable after loading.\n"
     ]
    },
    {
     "name": "stdout",
     "output_type": "stream",
     "text": [
      "INFO:tensorflow:Assets written to: saved_models/lstm\\assets\n"
     ]
    },
    {
     "name": "stderr",
     "output_type": "stream",
     "text": [
      "INFO:tensorflow:Assets written to: saved_models/lstm\\assets\n"
     ]
    }
   ],
   "source": [
    "# model.save('saved_models/lstm')"
   ]
  },
  {
   "cell_type": "code",
   "execution_count": null,
   "id": "supposed-hopkins",
   "metadata": {},
   "outputs": [],
   "source": []
  }
 ],
 "metadata": {
  "kernelspec": {
   "display_name": "Python 3",
   "language": "python",
   "name": "python3"
  },
  "language_info": {
   "codemirror_mode": {
    "name": "ipython",
    "version": 3
   },
   "file_extension": ".py",
   "mimetype": "text/x-python",
   "name": "python",
   "nbconvert_exporter": "python",
   "pygments_lexer": "ipython3",
   "version": "3.8.2"
  }
 },
 "nbformat": 4,
 "nbformat_minor": 5
}
