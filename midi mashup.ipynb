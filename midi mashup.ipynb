{
 "cells": [
  {
   "cell_type": "code",
   "execution_count": null,
   "id": "arbitrary-ocean",
   "metadata": {},
   "outputs": [],
   "source": [
    "# Create a Magenta Environment: \n",
    "\n",
    "#@title Setup Environment\n",
    "#@test {\"output\": \"ignore\"}\n",
    "\n",
    "import glob\n",
    "\n",
    "BASE_DIR = \"gs://download.magenta.tensorflow.org/models/music_vae/colab2\"\n",
    "\n",
    "print('Installing dependencies...')\n",
    "!apt-get update -qq && apt-get install -qq libfluidsynth1 fluid-soundfont-gm build-essential libasound2-dev libjack-dev\n",
    "!pip install -q pyfluidsynth\n",
    "!pip install -qU magenta\n",
    "!git clone https://github.com/MatthewAwesome/AIComposer\n",
    "\n",
    "# Hack to allow python to pick up the newly-installed fluidsynth lib.\n",
    "# This is only needed for the hosted Colab environment.\n",
    "import ctypes.util\n",
    "orig_ctypes_util_find_library = ctypes.util.find_library\n",
    "def proxy_find_library(lib):\n",
    "  if lib == 'fluidsynth':\n",
    "    return 'libfluidsynth.so.1'\n",
    "  else:\n",
    "    return orig_ctypes_util_find_library(lib)\n",
    "ctypes.util.find_library = proxy_find_library\n",
    "\n",
    "\n",
    "print('Importing libraries and defining some helper functions...')\n",
    "from google.colab import files\n",
    "import magenta.music as mm\n",
    "from magenta.models.music_vae import configs\n",
    "from magenta.models.music_vae.trained_model import TrainedModel\n",
    "import numpy as np\n",
    "import os\n",
    "import tensorflow.compat.v1 as tf\n",
    "\n",
    "tf.disable_v2_behavior()\n",
    "\n",
    "# Necessary until pyfluidsynth is updated (>1.2.5).\n",
    "import warnings\n",
    "warnings.filterwarnings(\"ignore\", category=DeprecationWarning)\n",
    "\n",
    "# A wrapper function to play a note sequence: \n",
    "def play(note_sequence):\n",
    "  mm.play_sequence(note_sequence, synth=mm.fluidsynth)\n",
    "\n",
    "# A function to interpolate two sequences: \n",
    "def interpolate(model, start_seq, end_seq, num_steps, max_length=32,\n",
    "                assert_same_length=True, temperature=0.5,\n",
    "                individual_duration=4.0):\n",
    "  \"\"\"Interpolates between a start and end sequence.\"\"\"\n",
    "  note_sequences = model.interpolate(\n",
    "      start_seq, end_seq,num_steps=num_steps, length=max_length,\n",
    "      temperature=temperature,\n",
    "      assert_same_length=assert_same_length)\n",
    "\n",
    "  print('Start Seq Reconstruction')\n",
    "  play(note_sequences[0])\n",
    "  print('End Seq Reconstruction')\n",
    "  play(note_sequences[-1])\n",
    "  print('Mean Sequence')\n",
    "  play(note_sequences[num_steps // 2])\n",
    "  print('Start -> End Interpolation')\n",
    "  interp_seq = mm.sequences_lib.concatenate_sequences(\n",
    "      note_sequences, [individual_duration] * len(note_sequences))\n",
    "  play(interp_seq)\n",
    "  mm.plot_sequence(interp_seq)\n",
    "  return interp_seq if num_steps >= 3 else note_sequences[num_steps // 2]\n",
    "\n",
    "def download(note_sequence, filename):\n",
    "  mm.sequence_proto_to_midi_file(note_sequence, filename)\n",
    "  files.download(filename)\n",
    "\n",
    "print('Done')"
   ]
  },
  {
   "cell_type": "code",
   "execution_count": null,
   "id": "increased-nylon",
   "metadata": {},
   "outputs": [],
   "source": [
    "# Grabbing the models: \n",
    "trio_models = {}\n",
    "hierdec_trio_16bar_config = configs.CONFIG_MAP['hierdec-trio_16bar']\n",
    "trio_models['hierdec_trio_16bar'] = TrainedModel(hierdec_trio_16bar_config, batch_size=1, checkpoint_dir_or_path=BASE_DIR + '/checkpoints/trio_16bar_hierdec.ckpt')\n",
    "#\n",
    "flat_trio_16bar_config = configs.CONFIG_MAP['flat-trio_16bar']\n",
    "trio_models['baseline_flat_trio_16bar'] = TrainedModel(flat_trio_16bar_config, batch_size=4, checkpoint_dir_or_path=BASE_DIR + '/checkpoints/trio_16bar_flat.ckpt')"
   ]
  },
  {
   "cell_type": "code",
   "execution_count": null,
   "id": "related-diploma",
   "metadata": {},
   "outputs": [],
   "source": [
    "import os\n",
    "os.chdir('./AIComposer')\n",
    "songs = []\n",
    "with open(\"I Shot the Sheriff.2.mid\",'rb') as song1: \n",
    "  songs.append([song1.read()])\n",
    "with open(\"Band On The Run.mid\",'rb') as song2: \n",
    "  songs.append([song2.read()])\n"
   ]
  },
  {
   "cell_type": "code",
   "execution_count": null,
   "id": "dated-search",
   "metadata": {},
   "outputs": [],
   "source": [
    "# We use two cells here. One to load a first song. \n",
    "songs = []\n",
    "songs.append(files.upload().values() or input_trio_midi_data)\n"
   ]
  },
  {
   "cell_type": "code",
   "execution_count": null,
   "id": "removable-campaign",
   "metadata": {},
   "outputs": [],
   "source": [
    "# Another to load the second song.\n",
    "songs.append(files.upload().values() or input_trio_midi_data)\n"
   ]
  },
  {
   "cell_type": "code",
   "execution_count": null,
   "id": "checked-driving",
   "metadata": {},
   "outputs": [],
   "source": [
    "all_trios = []\n",
    "for i,s in enumerate(songs): \n",
    "  trio_input_seqs = [mm.midi_to_sequence_proto(m) for m in s]\n",
    "  extracted_trios = []\n",
    "  for ns in trio_input_seqs:\n",
    "    extracted_trios.extend(\n",
    "        hierdec_trio_16bar_config.data_converter.from_tensors(\n",
    "            hierdec_trio_16bar_config.data_converter.to_tensors(ns)[1]))\n",
    "  all_trios.append(extracted_trios)\n"
   ]
  },
  {
   "cell_type": "code",
   "execution_count": null,
   "id": "aggressive-sender",
   "metadata": {},
   "outputs": [],
   "source": [
    "#@title Compute the reconstructions and mean of the two trios, selected from the previous cell.\n",
    "\n",
    "# hierdec contains an LSTM hierarchy,\n",
    "# flat does not. \n",
    "\n",
    "trio_interp_model = \"hierdec_trio_16bar\" #@param [\"hierdec_trio_16bar\", \"baseline_flat_trio_16bar\"]\n",
    "\n",
    "song_one_trio =  1#@param {type:\"integer\"}\n",
    "song_two_trio =  0#@param {type:\"integer\"}\n",
    "start_trio = all_trios[0][song_one_trio]\n",
    "end_trio = all_trios[1][song_two_trio]\n",
    "\n",
    "temperature = 1.2 #@param {type:\"slider\", min:0.1, max:1.5, step:0.1}\n",
    "trio_16bar_mean = interpolate(trio_models[trio_interp_model], start_trio, end_trio, num_steps=3, max_length=256, individual_duration=32, temperature=temperature)\n"
   ]
  },
  {
   "cell_type": "code",
   "execution_count": null,
   "id": "administrative-centre",
   "metadata": {},
   "outputs": [],
   "source": [
    "download(trio_16bar_mean, 'your_awesome_mashup.mid')"
   ]
  },
  {
   "cell_type": "code",
   "execution_count": null,
   "id": "hybrid-criticism",
   "metadata": {},
   "outputs": [],
   "source": []
  },
  {
   "cell_type": "code",
   "execution_count": null,
   "id": "early-filter",
   "metadata": {},
   "outputs": [],
   "source": []
  },
  {
   "cell_type": "code",
   "execution_count": null,
   "id": "accompanied-nevada",
   "metadata": {},
   "outputs": [],
   "source": []
  },
  {
   "cell_type": "code",
   "execution_count": null,
   "id": "exceptional-victory",
   "metadata": {},
   "outputs": [],
   "source": []
  },
  {
   "cell_type": "code",
   "execution_count": null,
   "id": "attached-frequency",
   "metadata": {},
   "outputs": [],
   "source": []
  },
  {
   "cell_type": "code",
   "execution_count": null,
   "id": "polyphonic-pitch",
   "metadata": {},
   "outputs": [],
   "source": []
  }
 ],
 "metadata": {
  "kernelspec": {
   "display_name": "Python 3",
   "language": "python",
   "name": "python3"
  },
  "language_info": {
   "codemirror_mode": {
    "name": "ipython",
    "version": 3
   },
   "file_extension": ".py",
   "mimetype": "text/x-python",
   "name": "python",
   "nbconvert_exporter": "python",
   "pygments_lexer": "ipython3",
   "version": "3.8.2"
  }
 },
 "nbformat": 4,
 "nbformat_minor": 5
}
