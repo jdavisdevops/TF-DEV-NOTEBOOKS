{
 "cells": [
  {
   "cell_type": "code",
   "execution_count": 1,
   "id": "latin-replica",
   "metadata": {},
   "outputs": [
    {
     "data": {
      "text/plain": [
       "<tensorflow.python.distribute.one_device_strategy.OneDeviceStrategy at 0x23fd3df2b20>"
      ]
     },
     "execution_count": 1,
     "metadata": {},
     "output_type": "execute_result"
    }
   ],
   "source": [
    "import os\n",
    "import pathlib\n",
    "import shutil\n",
    "from datetime import datetime\n",
    "\n",
    "import matplotlib.pyplot as plt\n",
    "import numpy as np\n",
    "import nvitop\n",
    "import tensorflow as tf\n",
    "from tensorflow.keras import Model, layers\n",
    "from tensorflow.keras.applications.inception_v3 import InceptionV3\n",
    "from tensorflow.keras.optimizers import Adam, RMSprop\n",
    "\n",
    "# os.environ[\"TF_GPU_THREAD_MODE\"] = \"gpu_private\"\n",
    "tf.distribute.OneDeviceStrategy(device=\"/gpu:0\")"
   ]
  },
  {
   "cell_type": "code",
   "execution_count": 2,
   "id": "registered-laptop",
   "metadata": {},
   "outputs": [
    {
     "name": "stdout",
     "output_type": "stream",
     "text": [
      "INFO:tensorflow:Mixed precision compatibility check (mixed_float16): OK\n",
      "Your GPU will likely run quickly with dtype policy mixed_float16 as it has compute capability of at least 7.0. Your GPU: NVIDIA GeForce GTX 1660, compute capability 7.5\n"
     ]
    }
   ],
   "source": [
    "policy = tf.keras.mixed_precision.Policy(\"mixed_float16\")\n",
    "tf.keras.mixed_precision.experimental.set_policy(policy)"
   ]
  },
  {
   "cell_type": "code",
   "execution_count": 3,
   "id": "located-arrow",
   "metadata": {},
   "outputs": [],
   "source": [
    "datadir = pathlib.Path(\n",
    "    r\"C:\\Users\\josephdavis\\Desktop\\Tensorflow notebooks\\cats-v-dogs\\training\"\n",
    ")\n",
    "valdir = pathlib.Path(\n",
    "    r\"C:\\Users\\josephdavis\\Desktop\\Tensorflow notebooks\\cats-v-dogs\\testing\"\n",
    ")\n",
    "\n",
    "AUTOTUNE = tf.data.AUTOTUNE\n",
    "\n",
    "logdir = pathlib.Path.cwd() / \"logs\"\n",
    "\n",
    "if len(os.listdir(logdir)) > 5:\n",
    "    shutil.rmtree(logdir)"
   ]
  },
  {
   "cell_type": "code",
   "execution_count": 4,
   "id": "parliamentary-butler",
   "metadata": {},
   "outputs": [],
   "source": [
    "# import os\n",
    "# import cv2\n",
    "# from PIL import Image\n",
    "# def check_images( s_dir, ext_list):\n",
    "#     bad_images=[]\n",
    "#     bad_ext=[]\n",
    "#     s_list= os.listdir(s_dir)\n",
    "#     for klass in s_list:\n",
    "#         klass_path=os.path.join (s_dir, klass)\n",
    "#         print ('processing class directory ', klass)\n",
    "#         if os.path.isdir(klass_path):\n",
    "#             file_list=os.listdir(klass_path)\n",
    "#             for f in file_list:\n",
    "#                 f_path=os.path.join (klass_path,f)\n",
    "#                 index=f.rfind('.')\n",
    "#                 ext=f[index+1:].lower()\n",
    "#                 if ext not in ext_list:\n",
    "#                     print('file ', f_path, ' has an invalid extension ', ext)\n",
    "#                     bad_ext.append(f_path)\n",
    "#                     os.remove(f_path)\n",
    "#                     print(\"removed bad extension file\")\n",
    "#                 if os.path.isfile(f_path):\n",
    "#                     try:\n",
    "#                         img=cv2.imread(f_path)\n",
    "#                         shape=img.shape\n",
    "#                     except:\n",
    "#                         print('file ', f_path, ' is not a valid image file')\n",
    "#                         bad_images.append(f_path)\n",
    "# #                         img = Image.open(f_path)\n",
    "# #                         img = img.save(f_path + \".jpeg\")\n",
    "#                         os.remove(f_path)\n",
    "#                         print('Removed bad image')\n",
    "#                 else:\n",
    "#                     print('*** fatal error, you a sub directory ', f, ' in class directory ', klass)\n",
    "#         else:\n",
    "#             print ('*** WARNING*** you have files in ', s_dir, ' it should only contain sub directories')\n",
    "#     return bad_images, bad_ext\n",
    "# ext_list = [\"jpg\"]\n",
    "# check_images(datadir, ext_list)\n",
    "# check_images(valdir, ext_list)"
   ]
  },
  {
   "cell_type": "code",
   "execution_count": 5,
   "id": "successful-range",
   "metadata": {},
   "outputs": [
    {
     "name": "stdout",
     "output_type": "stream",
     "text": [
      "22283\n"
     ]
    }
   ],
   "source": [
    "image_count = len(list(datadir.glob(\"*/*.jpg\")))\n",
    "print(image_count)\n",
    "batch_size = 128\n",
    "img_height = 150\n",
    "img_width = 150"
   ]
  },
  {
   "cell_type": "code",
   "execution_count": 6,
   "id": "operational-constitutional",
   "metadata": {},
   "outputs": [],
   "source": [
    "list_ds = tf.data.Dataset.list_files(str(datadir / \"*/*.jpg\"), shuffle=False)\n",
    "val_ds = tf.data.Dataset.list_files(str(valdir / \"*/*.jpg\"), shuffle=False)\n",
    "list_ds = list_ds.shuffle(image_count, reshuffle_each_iteration=False)\n",
    "num_train_files = len(list_ds)\n",
    "num_val_files = len(val_ds)"
   ]
  },
  {
   "cell_type": "code",
   "execution_count": 7,
   "id": "alone-arrest",
   "metadata": {},
   "outputs": [
    {
     "name": "stdout",
     "output_type": "stream",
     "text": [
      "b'C:\\\\Users\\\\josephdavis\\\\Desktop\\\\Tensorflow notebooks\\\\cats-v-dogs\\\\training\\\\cats\\\\7973.jpg'\n",
      "b'C:\\\\Users\\\\josephdavis\\\\Desktop\\\\Tensorflow notebooks\\\\cats-v-dogs\\\\training\\\\dogs\\\\10003.jpg'\n",
      "b'C:\\\\Users\\\\josephdavis\\\\Desktop\\\\Tensorflow notebooks\\\\cats-v-dogs\\\\training\\\\cats\\\\11674.jpg'\n",
      "b'C:\\\\Users\\\\josephdavis\\\\Desktop\\\\Tensorflow notebooks\\\\cats-v-dogs\\\\training\\\\dogs\\\\7023.jpg'\n",
      "b'C:\\\\Users\\\\josephdavis\\\\Desktop\\\\Tensorflow notebooks\\\\cats-v-dogs\\\\training\\\\cats\\\\11055.jpg'\n",
      "validation\n",
      "b'C:\\\\Users\\\\josephdavis\\\\Desktop\\\\Tensorflow notebooks\\\\cats-v-dogs\\\\testing\\\\cats\\\\100.jpg'\n",
      "b'C:\\\\Users\\\\josephdavis\\\\Desktop\\\\Tensorflow notebooks\\\\cats-v-dogs\\\\testing\\\\cats\\\\10004.jpg'\n",
      "b'C:\\\\Users\\\\josephdavis\\\\Desktop\\\\Tensorflow notebooks\\\\cats-v-dogs\\\\testing\\\\cats\\\\10024.jpg'\n",
      "b'C:\\\\Users\\\\josephdavis\\\\Desktop\\\\Tensorflow notebooks\\\\cats-v-dogs\\\\testing\\\\cats\\\\10038.jpg'\n",
      "b'C:\\\\Users\\\\josephdavis\\\\Desktop\\\\Tensorflow notebooks\\\\cats-v-dogs\\\\testing\\\\cats\\\\10052.jpg'\n"
     ]
    }
   ],
   "source": [
    "for f in list_ds.take(5):\n",
    "    print(f.numpy())\n",
    "print(\"validation\")\n",
    "for f in val_ds.take(5):\n",
    "    print(f.numpy())"
   ]
  },
  {
   "cell_type": "code",
   "execution_count": 8,
   "id": "executive-buyer",
   "metadata": {},
   "outputs": [
    {
     "name": "stdout",
     "output_type": "stream",
     "text": [
      "['cats' 'dogs']\n"
     ]
    }
   ],
   "source": [
    "class_names = np.array(sorted([item.name for item in datadir.glob(\"*\")]))\n",
    "print(class_names)"
   ]
  },
  {
   "cell_type": "code",
   "execution_count": 9,
   "id": "subject-plasma",
   "metadata": {},
   "outputs": [],
   "source": [
    "# val_size = int(image_count * .2)\n",
    "# train_ds = list_ds.skip(val_size)\n",
    "# val_ds = list_ds.take(val_size)\n",
    "# train_ds = list_ds"
   ]
  },
  {
   "cell_type": "code",
   "execution_count": 10,
   "id": "pregnant-subdivision",
   "metadata": {},
   "outputs": [
    {
     "name": "stdout",
     "output_type": "stream",
     "text": [
      "22283\n",
      "2473\n"
     ]
    }
   ],
   "source": [
    "print(tf.data.experimental.cardinality(list_ds).numpy())\n",
    "print(tf.data.experimental.cardinality(val_ds).numpy())"
   ]
  },
  {
   "cell_type": "code",
   "execution_count": 11,
   "id": "handled-chosen",
   "metadata": {},
   "outputs": [],
   "source": [
    "def get_label(file_path):\n",
    "    parts = tf.strings.split(file_path, os.path.sep)\n",
    "    one_hot = parts[-2] == class_names\n",
    "    return tf.argmax(one_hot)"
   ]
  },
  {
   "cell_type": "code",
   "execution_count": 12,
   "id": "convertible-sucking",
   "metadata": {},
   "outputs": [],
   "source": [
    "def decode_img(img):\n",
    "    img = tf.image.decode_jpeg(img, channels=3)\n",
    "    #     img = img/255.\n",
    "    return img  # tf.image.resize(img, [img_height, img_width])"
   ]
  },
  {
   "cell_type": "code",
   "execution_count": 13,
   "id": "gothic-residence",
   "metadata": {},
   "outputs": [],
   "source": [
    "def process_path(file_path):\n",
    "    label = get_label(file_path)\n",
    "    img = tf.io.read_file(file_path)\n",
    "    img = decode_img(img)\n",
    "    #     return tf.data.Dataset.from_tensors((img, label))\n",
    "    return img, label"
   ]
  },
  {
   "cell_type": "code",
   "execution_count": 14,
   "id": "fiscal-shipping",
   "metadata": {},
   "outputs": [],
   "source": [
    "train_ds = list_ds.map(process_path, num_parallel_calls=AUTOTUNE)\n",
    "val_ds = val_ds.map(process_path, num_parallel_calls=AUTOTUNE)\n",
    "\n",
    "# train_ds = list_ds.interleave(\n",
    "#     lambda x: tf.data.Dataset.list_files(str(datadir / \"*/*.jpg\"), shuffle=True),\n",
    "#     num_parallel_calls=AUTOTUNE,\n",
    "#     cycle_length=4,\n",
    "# #     block_length=4,\n",
    "# #     deterministic=False,\n",
    "# ).map(process_path, num_parallel_calls=AUTOTUNE)\n",
    "# val_ds = val_ds.interleave(\n",
    "#     lambda x: tf.data.Dataset.list_files(str(valdir / \"*/*.jpg\"), shuffle=True),\n",
    "#     num_parallel_calls=AUTOTUNE,\n",
    "#     cycle_length=4,\n",
    "# #     block_length=4,\n",
    "# #     deterministic=False,\n",
    "# ).map(process_path, num_parallel_calls=AUTOTUNE)\n",
    "\n",
    "# train_ds.cache()\n",
    "# val_ds.cache()"
   ]
  },
  {
   "cell_type": "code",
   "execution_count": 15,
   "id": "unsigned-voice",
   "metadata": {},
   "outputs": [],
   "source": [
    "# for image, label in train_ds.take(1):\n",
    "#     print(\"Image Shape: \", image.numpy().shape)\n",
    "#     print(\"Label: \", label.numpy())"
   ]
  },
  {
   "cell_type": "code",
   "execution_count": 16,
   "id": "medical-variation",
   "metadata": {},
   "outputs": [],
   "source": [
    "data_augmentation = tf.keras.Sequential(\n",
    "    [\n",
    "        #         layers.experimental.preprocessing.RandomFlip(\"horizontal_and_vertical\"),\n",
    "        layers.experimental.preprocessing.RandomFlip(\"horizontal\"),\n",
    "        #         layers.experimental.preprocessing.RandomTranslation(0.2, 0.2),\n",
    "        layers.experimental.preprocessing.RandomRotation(0.2, interpolation=\"bilinear\"),\n",
    "        layers.experimental.preprocessing.RandomWidth(0.01, interpolation=\"bilinear\"),\n",
    "        layers.experimental.preprocessing.RandomHeight(0.01, interpolation=\"bilinear\"),\n",
    "        #         layers.experimental.preprocessing.RandomContrast(0.2),\n",
    "        #         layers.experimental.preprocessing.RandomZoom(0.1),\n",
    "    ]\n",
    ")\n",
    "\n",
    "resize_and_rescale = tf.keras.Sequential(\n",
    "    [\n",
    "        layers.experimental.preprocessing.Resizing(img_height, img_width),\n",
    "        layers.experimental.preprocessing.Rescaling(1.0 / 255),\n",
    "    ]\n",
    ")"
   ]
  },
  {
   "cell_type": "code",
   "execution_count": 17,
   "id": "processed-rebound",
   "metadata": {},
   "outputs": [],
   "source": [
    "def prepare(ds, shuffle=False, augment=False):\n",
    "\n",
    "    # Resize and rescale all datasets.\n",
    "    ds = ds.map(lambda x, y: (resize_and_rescale(x), y), num_parallel_calls=AUTOTUNE)\n",
    "\n",
    "    ds.cache()\n",
    "\n",
    "    if shuffle:\n",
    "        ds = ds.shuffle(1000)\n",
    "\n",
    "    # Batch all datasets\n",
    "    ds = ds.batch(batch_size)\n",
    "\n",
    "    if augment:\n",
    "        ds = ds.map(\n",
    "            lambda x, y: (data_augmentation(x, training=True), y),\n",
    "            num_parallel_calls=AUTOTUNE,\n",
    "        ).cache()\n",
    "\n",
    "    # Use buffered prefecting on all datasets\n",
    "    return ds.prefetch(buffer_size=AUTOTUNE)\n",
    "\n",
    "\n",
    "train_ds = prepare(train_ds, shuffle=True, augment=True)\n",
    "val_ds = prepare(val_ds)\n",
    "\n",
    "# options = tf.data.Options()\n",
    "# options.experimental_threading.max_intra_op_parallelism = 1\n",
    "# train_ds = train_ds.with_options(options)\n",
    "# val_ds = val_ds.with_options(options)"
   ]
  },
  {
   "cell_type": "code",
   "execution_count": 18,
   "id": "twelve-duplicate",
   "metadata": {},
   "outputs": [],
   "source": [
    "# def prepare(ds, shuffle=False, augment=False):\n",
    "#     # Resize and rescale all datasets\n",
    "#     ds = ds.map(lambda x, y: (resize_and_rescale(x), y), num_parallel_calls=AUTOTUNE)\n",
    "\n",
    "#     if shuffle:\n",
    "#         ds = ds.shuffle(1000)\n",
    "\n",
    "#     # Batch all datasets\n",
    "#     ds = ds.batch(batch_size)\n",
    "\n",
    "#     # Use data augmentation only on the training set\n",
    "#     if augment:\n",
    "#         ds = ds.map(\n",
    "#             lambda x, y: (data_augmentation(x, training=True), y),\n",
    "#             num_parallel_calls=AUTOTUNE,\n",
    "#         )\n",
    "#     ds.cache()\n",
    "#     # Use buffered prefecting on all datasets\n",
    "#     return ds.prefetch(buffer_size=AUTOTUNE)\n",
    "\n",
    "\n",
    "# train_ds = prepare(train_ds, shuffle=True, augment=True)\n",
    "# val_ds = prepare(val_ds)"
   ]
  },
  {
   "cell_type": "code",
   "execution_count": 19,
   "id": "streaming-record",
   "metadata": {},
   "outputs": [],
   "source": [
    "# def configure_for_performance(ds):\n",
    "#     ds = ds.cache()\n",
    "#     ds = ds.shuffle(buffer_size=1000)\n",
    "#     ds = ds.batch(batch_size)\n",
    "#     ds = ds.prefetch(buffer_size=AUTOTUNE)\n",
    "#     return ds\n",
    "# train_ds = configure_for_performance(train_ds)\n",
    "# val_ds = configure_for_performance(val_ds)"
   ]
  },
  {
   "cell_type": "code",
   "execution_count": 20,
   "id": "laughing-protest",
   "metadata": {},
   "outputs": [],
   "source": [
    "# img_batch, label_batch = next(iter(train_ds))\n",
    "\n",
    "# plt.figure(figsize=(10, 10))\n",
    "# for i in range(9):\n",
    "#     ax = plt.subplot(3, 3, i + 1)\n",
    "#     plt.imshow(img_batch.numpy()[i])\n",
    "#     label = label_batch[i]\n",
    "#     plt.title(class_names[label])\n",
    "#     plt.axis(\"off\")"
   ]
  },
  {
   "cell_type": "code",
   "execution_count": 21,
   "id": "pharmaceutical-highland",
   "metadata": {},
   "outputs": [
    {
     "name": "stdout",
     "output_type": "stream",
     "text": [
      "last layer output shape:  (None, 7, 7, 768)\n"
     ]
    }
   ],
   "source": [
    "pre_trained_model = InceptionV3(\n",
    "    input_shape=(img_height, img_width, 3), include_top=False, weights=\"imagenet\"\n",
    ")\n",
    "\n",
    "# weights_file = pathlib.Path.cwd() / 'inception_v3_weights_tf_dim_ordering_tf_kernels_notop.h5'\n",
    "# pre_trained_model.load_weights(weights_file)\n",
    "\n",
    "for layer in pre_trained_model.layers:\n",
    "    layer.trainable = False\n",
    "\n",
    "last_layer = pre_trained_model.get_layer(\"mixed7\")\n",
    "print(\"last layer output shape: \", last_layer.output_shape)\n",
    "last_output = last_layer.output\n",
    "\n",
    "x = layers.Flatten()(last_output)\n",
    "x = layers.Dense(1024, activation=\"relu\")(x)\n",
    "x = layers.Dropout(0.2)(x)\n",
    "x = layers.Dense(1, activation=\"sigmoid\")(x)\n",
    "\n",
    "model = Model(pre_trained_model.input, x)\n",
    "\n",
    "model.compile(\n",
    "    optimizer=RMSprop(lr=0.0001), loss=\"binary_crossentropy\", metrics=[\"accuracy\"]\n",
    ")"
   ]
  },
  {
   "cell_type": "code",
   "execution_count": 22,
   "id": "transparent-march",
   "metadata": {},
   "outputs": [],
   "source": [
    "# model = tf.keras.models.Sequential(\n",
    "#     [\n",
    "#         # Note the input shape is the desired size of the image 150x150 with 3 bytes color\n",
    "#         tf.keras.layers.Conv2D(\n",
    "#             16, (3, 3), activation=\"relu\", input_shape=(150, 150, 3)\n",
    "#         ),\n",
    "#         tf.keras.layers.MaxPooling2D(2, 2),\n",
    "#         tf.keras.layers.Conv2D(32, (3, 3), activation=\"relu\"),\n",
    "#         tf.keras.layers.MaxPooling2D(2, 2),\n",
    "#         tf.keras.layers.Conv2D(64, (3, 3), activation=\"relu\"),\n",
    "#         tf.keras.layers.MaxPooling2D(2, 2),\n",
    "#         tf.keras.layers.Conv2D(128, (3, 3), activation=\"relu\"),\n",
    "#         tf.keras.layers.MaxPooling2D(2, 2),\n",
    "# #         tf.keras.layers.Conv2D(512, (3, 3), activation=\"relu\"),\n",
    "# #         tf.keras.layers.MaxPooling2D(2, 2),\n",
    "#         # Flatten the results to feed into a DNN\n",
    "#         tf.keras.layers.Flatten(),\n",
    "#         # 512 neuron hidden layer\n",
    "#         tf.keras.layers.Dense(512, activation=\"relu\"),\n",
    "#         tf.keras.layers.Dense(64, activation=\"relu\"),\n",
    "#         # Only 1 output neuron. It will contain a value from 0-1 where 0 for 1 class ('cats') and 1 for the other ('dogs')\n",
    "#         tf.keras.layers.Dense(1, activation=\"sigmoid\"),\n",
    "#     ]\n",
    "# )\n",
    "\n",
    "# model.compile(\n",
    "#     optimizer=RMSprop(lr=0.001), loss=\"binary_crossentropy\", metrics=[\"accuracy\"]\n",
    "# )\n",
    "\n",
    "# model.summary()"
   ]
  },
  {
   "cell_type": "code",
   "execution_count": 23,
   "id": "transsexual-wireless",
   "metadata": {},
   "outputs": [],
   "source": [
    "logs = \"logs/\" + datetime.now().strftime(\"%Y%m%d-%H%M%S\")\n",
    "\n",
    "tboard_callback = tf.keras.callbacks.TensorBoard(\n",
    "    log_dir=logs, histogram_freq=1, profile_batch=\"500,520\"\n",
    ")\n",
    "\n",
    "callback = tf.keras.callbacks.EarlyStopping(\n",
    "    monitor=\"val_accuracy\", mode=\"auto\", patience=4, restore_best_weights=True\n",
    ")"
   ]
  },
  {
   "cell_type": "code",
   "execution_count": 24,
   "id": "cleared-rubber",
   "metadata": {},
   "outputs": [
    {
     "name": "stdout",
     "output_type": "stream",
     "text": [
      "Epoch 1/50\n",
      "175/175 [==============================] - 71s 360ms/step - loss: 0.4139 - accuracy: 0.8478 - val_loss: 0.1046 - val_accuracy: 0.9660\n",
      "Epoch 2/50\n",
      "175/175 [==============================] - 57s 327ms/step - loss: 0.1346 - accuracy: 0.9454 - val_loss: 0.1114 - val_accuracy: 0.9664\n",
      "Epoch 3/50\n",
      "175/175 [==============================] - 59s 336ms/step - loss: 0.0712 - accuracy: 0.9736 - val_loss: 0.1165 - val_accuracy: 0.9685\n",
      "Epoch 4/50\n",
      "175/175 [==============================] - 57s 327ms/step - loss: 0.0480 - accuracy: 0.9843 - val_loss: 0.1241 - val_accuracy: 0.9697\n",
      "Epoch 5/50\n",
      "175/175 [==============================] - 57s 328ms/step - loss: 0.0302 - accuracy: 0.9891 - val_loss: 0.1614 - val_accuracy: 0.9672\n",
      "Epoch 6/50\n",
      "175/175 [==============================] - 57s 328ms/step - loss: 0.0292 - accuracy: 0.9923 - val_loss: 0.1543 - val_accuracy: 0.9656\n",
      "Epoch 7/50\n",
      "175/175 [==============================] - 57s 328ms/step - loss: 0.0164 - accuracy: 0.9948 - val_loss: 0.1706 - val_accuracy: 0.9677\n",
      "Epoch 8/50\n",
      "175/175 [==============================] - 57s 328ms/step - loss: 0.0178 - accuracy: 0.9953 - val_loss: 0.1878 - val_accuracy: 0.9664\n"
     ]
    }
   ],
   "source": [
    "history = model.fit(\n",
    "    train_ds,\n",
    "    validation_data=val_ds,\n",
    "    epochs=50,\n",
    "    #     steps_per_epoch=100,\n",
    "    #     validation_steps=50,\n",
    "    verbose=1,\n",
    "    callbacks=[callback, tboard_callback],\n",
    ")"
   ]
  },
  {
   "cell_type": "code",
   "execution_count": 25,
   "id": "victorian-argentina",
   "metadata": {},
   "outputs": [
    {
     "data": {
      "text/plain": [
       "Reusing TensorBoard on port 6006 (pid 58252), started 7 days, 6:18:09 ago. (Use '!kill 58252' to kill it.)"
      ]
     },
     "metadata": {},
     "output_type": "display_data"
    },
    {
     "data": {
      "text/html": [
       "\n",
       "      <iframe id=\"tensorboard-frame-7b612af5eaa13520\" width=\"100%\" height=\"800\" frameborder=\"0\">\n",
       "      </iframe>\n",
       "      <script>\n",
       "        (function() {\n",
       "          const frame = document.getElementById(\"tensorboard-frame-7b612af5eaa13520\");\n",
       "          const url = new URL(\"/\", window.location);\n",
       "          const port = 6006;\n",
       "          if (port) {\n",
       "            url.port = port;\n",
       "          }\n",
       "          frame.src = url;\n",
       "        })();\n",
       "      </script>\n",
       "    "
      ],
      "text/plain": [
       "<IPython.core.display.HTML object>"
      ]
     },
     "metadata": {},
     "output_type": "display_data"
    }
   ],
   "source": [
    "%load_ext tensorboard\n",
    "%tensorboard --logdir=logs"
   ]
  },
  {
   "cell_type": "code",
   "execution_count": 26,
   "id": "outer-absence",
   "metadata": {},
   "outputs": [
    {
     "name": "stdout",
     "output_type": "stream",
     "text": [
      "[0.5]\n",
      "127.jpg is a dog\n",
      "[0.5]\n",
      "137.jpg is a dog\n",
      "[0.5]\n",
      "140.jpg is a dog\n",
      "[0.5]\n",
      "159.jpg is a dog\n",
      "[0.5]\n",
      "196.jpg is a dog\n",
      "[0.5]\n",
      "205.jpg is a dog\n",
      "[0.5]\n",
      "218.jpg is a dog\n",
      "[0.5]\n",
      "220.jpg is a dog\n",
      "[0.5]\n",
      "222.jpg is a dog\n",
      "[0.5]\n",
      "229.jpg is a dog\n",
      "[0.5]\n",
      "232.jpg is a dog\n",
      "[0.5]\n",
      "243.jpg is a dog\n",
      "[0.5]\n",
      "274.jpg is a dog\n",
      "[0.5]\n",
      "279.jpg is a dog\n",
      "[0.5]\n",
      "285.jpg is a dog\n",
      "[0.5]\n",
      "321.jpg is a dog\n",
      "[0.5]\n",
      "326.jpg is a dog\n",
      "[0.5]\n",
      "330.jpg is a dog\n",
      "[0.5]\n",
      "338.jpg is a dog\n",
      "[0.5]\n",
      "345.jpg is a dog\n",
      "[0.5]\n",
      "346.jpg is a dog\n",
      "[0.5]\n",
      "353.jpg is a dog\n",
      "[0.5]\n",
      "363.jpg is a dog\n",
      "[0.5]\n",
      "365.jpg is a dog\n",
      "[0.5]\n",
      "402.jpg is a dog\n",
      "[0.5]\n",
      "407.jpg is a dog\n",
      "[0.5]\n",
      "409.jpg is a dog\n",
      "[0.5]\n",
      "425.jpg is a dog\n",
      "[0.5]\n",
      "427.jpg is a dog\n",
      "[0.5]\n",
      "437.jpg is a dog\n",
      "[0.5]\n",
      "455.jpg is a dog\n",
      "[0.5]\n",
      "463.jpg is a dog\n",
      "[0.5]\n",
      "471.jpg is a dog\n",
      "[0.5]\n",
      "483.jpg is a dog\n",
      "[0.5]\n",
      "487.jpg is a dog\n",
      "[0.5]\n",
      "517.jpg is a dog\n",
      "[0.5]\n",
      "519.jpg is a dog\n",
      "[0.5]\n",
      "533.jpg is a dog\n",
      "[0.5]\n",
      "546.jpg is a dog\n",
      "[0.5]\n",
      "5577.jpg is a dog\n",
      "[0.5]\n",
      "5589.jpg is a dog\n",
      "[0.5]\n",
      "559.jpg is a dog\n",
      "[0.5]\n",
      "5609.jpg is a dog\n",
      "[0.5]\n",
      "5625.jpg is a dog\n",
      "[0.5]\n",
      "5629.jpg is a dog\n",
      "[0.5]\n",
      "5641.jpg is a dog\n",
      "[0.5]\n",
      "5644.jpg is a dog\n",
      "[0.5]\n",
      "5651.jpg is a dog\n",
      "[0.5]\n",
      "5653.jpg is a dog\n",
      "[0.5]\n",
      "5662.jpg is a dog\n",
      "[0.5]\n",
      "5668.jpg is a dog\n",
      "[0.5]\n",
      "5671.jpg is a dog\n",
      "[0.5]\n",
      "5681.jpg is a dog\n",
      "[0.5]\n",
      "5704.jpg is a dog\n",
      "[0.5]\n",
      "5705.jpg is a dog\n",
      "[0.5]\n",
      "5719.jpg is a dog\n",
      "[0.5]\n",
      "5724.jpg is a dog\n",
      "[0.5]\n",
      "5725.jpg is a dog\n",
      "[0.5]\n",
      "5758.jpg is a dog\n",
      "[0.5]\n",
      "576.jpg is a dog\n",
      "[0.5]\n",
      "5762.jpg is a dog\n",
      "[0.5]\n",
      "5766.jpg is a dog\n",
      "[0.5]\n",
      "5768.jpg is a dog\n",
      "[0.5]\n",
      "5769.jpg is a dog\n",
      "[0.5]\n",
      "5773.jpg is a dog\n",
      "[0.5]\n",
      "5774.jpg is a dog\n",
      "[0.5]\n",
      "578.jpg is a dog\n",
      "[0.5]\n",
      "579.jpg is a dog\n",
      "[0.5]\n",
      "5793.jpg is a dog\n",
      "[0.5]\n",
      "5795.jpg is a dog\n",
      "[0.5]\n",
      "580.jpg is a dog\n",
      "[0.5]\n",
      "5805.jpg is a dog\n",
      "[0.5]\n",
      "5830.jpg is a dog\n",
      "[0.5]\n",
      "5847.jpg is a dog\n",
      "[0.5]\n",
      "5851.jpg is a dog\n",
      "[0.5]\n",
      "5854.jpg is a dog\n",
      "[0.5]\n",
      "5866.jpg is a dog\n",
      "[0.5]\n",
      "5874.jpg is a dog\n",
      "[0.5]\n",
      "5877.jpg is a dog\n",
      "[0.5]\n",
      "5883.jpg is a dog\n",
      "[0.5]\n",
      "5890.jpg is a dog\n",
      "[0.5]\n",
      "5898.jpg is a dog\n",
      "[0.5]\n",
      "5907.jpg is a dog\n",
      "[0.5]\n",
      "5911.jpg is a dog\n",
      "[0.5]\n",
      "5935.jpg is a dog\n",
      "[0.5]\n",
      "5946.jpg is a dog\n",
      "[0.5]\n",
      "5957.jpg is a dog\n",
      "[0.5]\n",
      "6034.jpg is a dog\n",
      "[0.5]\n",
      "6041.jpg is a dog\n",
      "[0.5]\n",
      "6054.jpg is a dog\n",
      "[0.5]\n",
      "6063.jpg is a dog\n",
      "[0.5]\n",
      "6074.jpg is a dog\n",
      "[0.5]\n",
      "6076.jpg is a dog\n",
      "[0.5]\n",
      "6080.jpg is a dog\n",
      "[0.5]\n",
      "613.jpg is a dog\n",
      "[0.5]\n",
      "620.jpg is a dog\n",
      "[0.5]\n",
      "626.jpg is a dog\n",
      "[0.5]\n",
      "637.jpg is a dog\n",
      "[0.5]\n",
      "648.jpg is a dog\n",
      "[0.5]\n",
      "666.jpg is a dog\n",
      "[0.5]\n",
      "671.jpg is a dog\n",
      "[0.5]\n",
      "681.jpg is a dog\n",
      "[0.5]\n",
      "693.jpg is a dog\n",
      "[0.5]\n",
      "702.jpg is a dog\n",
      "[0.5]\n",
      "723.jpg is a dog\n",
      "[0.5]\n",
      "726.jpg is a dog\n",
      "[0.5]\n",
      "735.jpg is a dog\n",
      "[0.5]\n",
      "737.jpg is a dog\n",
      "[0.5]\n",
      "747.jpg is a dog\n",
      "[0.5]\n",
      "753.jpg is a dog\n",
      "[0.5]\n",
      "766.jpg is a dog\n",
      "[0.5]\n",
      "783.jpg is a dog\n",
      "[0.5]\n",
      "811.jpg is a dog\n",
      "[0.5]\n",
      "813.jpg is a dog\n",
      "[0.5]\n",
      "814.jpg is a dog\n",
      "[0.5]\n",
      "822.jpg is a dog\n"
     ]
    }
   ],
   "source": [
    "import numpy as np\n",
    "\n",
    "# from google.colab import files\n",
    "from keras.preprocessing import image\n",
    "from keras.applications.inception_v3 import preprocess_input\n",
    "\n",
    "# uploaded=files.upload()\n",
    "\n",
    "# for fn in uploaded.keys():\n",
    "\n",
    "# predicting images\n",
    "#   path='/content/' + fn\n",
    "path = \"C:/Users/josephdavis/Desktop/Tensorflow notebooks/cat-dog-val/\"\n",
    "for fn in os.listdir(path):\n",
    "    img = image.load_img(path + fn, target_size=(150, 150))\n",
    "\n",
    "    x = image.img_to_array(img)\n",
    "    x = np.expand_dims(x, axis=0)\n",
    "    x = preprocess_input(x)\n",
    "    images = np.vstack([x])\n",
    "\n",
    "    classes = model.predict(images, batch_size=10)\n",
    "\n",
    "    if classes[0] > 0:\n",
    "        print(classes[0])\n",
    "        print(fn + \" is a dog\")\n",
    "\n",
    "    else:\n",
    "        print(fn + \" is a cat\")"
   ]
  },
  {
   "cell_type": "code",
   "execution_count": 27,
   "id": "emotional-forth",
   "metadata": {},
   "outputs": [
    {
     "name": "stdout",
     "output_type": "stream",
     "text": [
      "20/20 [==============================] - 5s 227ms/step - loss: 0.1241 - accuracy: 0.9697\n"
     ]
    },
    {
     "data": {
      "text/plain": [
       "[0.12408275902271271, 0.969672441482544]"
      ]
     },
     "execution_count": 27,
     "metadata": {},
     "output_type": "execute_result"
    }
   ],
   "source": [
    "model.evaluate(val_ds)"
   ]
  },
  {
   "cell_type": "code",
   "execution_count": 28,
   "id": "official-laptop",
   "metadata": {},
   "outputs": [
    {
     "name": "stdout",
     "output_type": "stream",
     "text": [
      "loss [0.26199105381965637, 0.12021912634372711, 0.06868639588356018, 0.04270363226532936, 0.02506813034415245, 0.025179443880915642, 0.017161905765533447, 0.013220086693763733]\n",
      "accuracy [0.8931023478507996, 0.9518916010856628, 0.9743750691413879, 0.9866714477539062, 0.9913835525512695, 0.9928196668624878, 0.9946596026420593, 0.9956917762756348]\n",
      "val_loss [0.10458529740571976, 0.11139388382434845, 0.11649634689092636, 0.12408275902271271, 0.16135023534297943, 0.15425223112106323, 0.17064517736434937, 0.18783418834209442]\n",
      "val_accuracy [0.9660331606864929, 0.9664375185966492, 0.9684593677520752, 0.969672441482544, 0.9672462344169617, 0.9656288027763367, 0.9676506519317627, 0.9664375185966492]\n"
     ]
    },
    {
     "data": {
      "image/png": "[encoded data removed]",
      "text/plain": [
       "<Figure size 432x288 with 1 Axes>"
      ]
     },
     "metadata": {
      "needs_background": "light"
     },
     "output_type": "display_data"
    },
    {
     "data": {
      "text/plain": [
       "<Figure size 432x288 with 0 Axes>"
      ]
     },
     "metadata": {},
     "output_type": "display_data"
    }
   ],
   "source": [
    "acc = history.history[\"accuracy\"]\n",
    "val_acc = history.history[\"val_accuracy\"]\n",
    "loss = history.history[\"loss\"]\n",
    "val_loss = history.history[\"val_loss\"]\n",
    "\n",
    "for value in history.history:\n",
    "    print(value, history.history[value])\n",
    "\n",
    "epochs = range(len(acc))\n",
    "\n",
    "plt.plot(epochs, acc, \"r\", label=\"Training accuracy\")\n",
    "plt.plot(epochs, val_acc, \"b\", label=\"Validation accuracy\")\n",
    "plt.title(\"Training and validation accuracy\")\n",
    "plt.legend(loc=0)\n",
    "plt.figure()\n",
    "\n",
    "\n",
    "plt.show()"
   ]
  },
  {
   "cell_type": "code",
   "execution_count": null,
   "id": "baking-monte",
   "metadata": {},
   "outputs": [],
   "source": []
  }
 ],
 "metadata": {
  "kernelspec": {
   "display_name": "Python 3",
   "language": "python",
   "name": "python3"
  },
  "language_info": {
   "codemirror_mode": {
    "name": "ipython",
    "version": 3
   },
   "file_extension": ".py",
   "mimetype": "text/x-python",
   "name": "python",
   "nbconvert_exporter": "python",
   "pygments_lexer": "ipython3",
   "version": "3.8.2"
  }
 },
 "nbformat": 4,
 "nbformat_minor": 5
}
